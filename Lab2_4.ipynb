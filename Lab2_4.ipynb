{
 "cells": [
  {
   "cell_type": "markdown",
   "metadata": {},
   "source": [
    "# Лабораторна робота №4"
   ]
  },
  {
   "cell_type": "markdown",
   "metadata": {},
   "source": [
    "Бригада №3, КА-61м\n",
    "- Краснощок Ілля\n",
    "- Одобеску Владислав\n",
    "- Фатенко Владислав\n",
    "- Шевченко Тарас"
   ]
  },
  {
   "cell_type": "markdown",
   "metadata": {},
   "source": [
    "## Завдання"
   ]
  },
  {
   "cell_type": "markdown",
   "metadata": {},
   "source": [
    "Вивчити теоретичні основи методу аналізу ієрархій.\n",
    "\n",
    "Побудувати мультиплікативну матрицю парних порівнянь (МПП) оцінювання альтернатив рішень за одним критерієм за умови, що експерт дає оцінки у фундаментальній шкалі.\n",
    "\n",
    "Розрахувати глобальні ваги елементів ієрархії для повної ієрархії з $p$ рівнями, $p>2$, яка задається вектором $m=\\{(m_k)|k=1,\\dots,p\\}$, де $m_k \\in \\mathbb{N}$ - кількість елементів на $k$-му рівні ієрархії. Для цього:\n",
    "\n",
    "- зчитати з файлу кількість рівнів ієрархії та кількість елементів на кожному рівні,\n",
    "- зчитати з файлу матриці парних порівнянь елементів ієрархії,\n",
    "- розрахувати один з показників узгодженості (згідно з варіантом) матриць парних порівнянь та зробити висновки щодо рівня неузгодженості,\n",
    "- розрахувати локальні ваги елементів ієрархії одним з методів парних порівнянь (згідно з варіантом),\n",
    "- розрахувати глобальні ваги елементів ієрархії одним з методів синтезу (згідно з варіантом).\n",
    "\n",
    "Зробити висновки по роботі\n",
    "\n",
    "Дати відповіді на контрольні питання, наведені в кінці роботи."
   ]
  },
  {
   "cell_type": "markdown",
   "metadata": {},
   "source": [
    "## Виконання роботи"
   ]
  },
  {
   "cell_type": "markdown",
   "metadata": {},
   "source": [
    "### Побудова МПП\n",
    "Розглядається задача №3:"
   ]
  },
  {
   "cell_type": "markdown",
   "metadata": {},
   "source": [
    "> Нехай інвестор оцінює акції деякої компаній і хоче спрогнозувати, яким буде розподіл ймовірностей зміни ціни на них. Він розглядає наступні можливі варіанти зміни ціни: впаде на 20%, впаде на 10%, залишиться незмінною, зросте на 10%. Використовуючи результати фундаментального аналізу, парні порівняння варіантів зміни ціни наступні:\n",
    "- імовірність події, що ціна акцій зросте на 10% ненабагато перевищує імовірність події, що ціна акцій залишиться незмінною на протязі визначеного періоду часу і суттєво перевищує імовірності того, що ціна акцій впаде як на 10%, так і на 20%;\n",
    "- імовірність події, що ціна акцій залишиться незмінною ненабагато перевищує імовірності подій, що ціна акцій впаде як на 10%, так і на 20%;\n",
    "- імовірність події, що ціна акцій впаде на 10% ненабагато перевищує імовірність події, що ціна акцій впаде на 20%.\n",
    "\n",
    "Таблично умову можна представити у наступному вигляді:"
   ]
  },
  {
   "cell_type": "markdown",
   "metadata": {},
   "source": [
    "<table>\n",
    "<tr>\n",
    "<th>Варіанти зміни ціни</th>\n",
    "<th>Впаде на 20%</th>\n",
    "<th>Впаде на 10%</th>\n",
    "<th>Залишиться незмінною</th>\n",
    "<th>Зросте на 10%</th>\n",
    "</tr>\n",
    "<tr>\n",
    "<td>Впаде на 20%</td>\n",
    "<td>-</td><td>-</td><td>-</td><td>-</td>\n",
    "</tr>\n",
    "<tr>\n",
    "<td>Впаде на 10%</td>\n",
    "<td>ненабагато перевищує</td><td>-</td><td>-</td><td>-</td>\n",
    "</tr>\n",
    "<tr>\n",
    "<td>Залишиться незмінною</td>\n",
    "<td>ненабагато перевищує</td><td>ненабагато перевищує</td><td>-</td><td>-</td>\n",
    "</tr>\n",
    "<tr>\n",
    "<td>Зросте на 10%</td>\n",
    "<td>суттєво перевищує</td><td>суттєво перевищує</td><td>ненабагато перевищує</td><td>-</td>\n",
    "</tr>\n",
    "</table>"
   ]
  },
  {
   "cell_type": "markdown",
   "metadata": {},
   "source": [
    "Відповідно до фундаментальної шкали експертних суджень, \"суттєво перевищує\" відповідає 5, а \"ненабагато перевищує\" відповідає 3. Тоді отримуємо наступну МПП:"
   ]
  },
  {
   "cell_type": "markdown",
   "metadata": {},
   "source": [
    "<table>\n",
    "<tr>\n",
    "<th>Варіанти зміни ціни</th>\n",
    "<th>Впаде на 20%</th>\n",
    "<th>Впаде на 10%</th>\n",
    "<th>Залишиться незмінною</th>\n",
    "<th>Зросте на 10%</th>\n",
    "</tr>\n",
    "<tr>\n",
    "<td>Впаде на 20%</td>\n",
    "<td>1</td><td>1/3</td><td>1/3</td><td>1/5</td>\n",
    "</tr>\n",
    "<tr>\n",
    "<td>Впаде на 10%</td>\n",
    "<td>3</td><td>1</td><td>1/3</td><td>1/5</td>\n",
    "</tr>\n",
    "<tr>\n",
    "<td>Залишиться незмінною</td>\n",
    "<td>3</td><td>3</td><td>1</td><td>1/3</td>\n",
    "</tr>\n",
    "<tr>\n",
    "<td>Зросте на 10%</td>\n",
    "<td>5</td><td>5</td><td>3</td><td>1</td>\n",
    "</tr>\n",
    "</table>"
   ]
  },
  {
   "cell_type": "markdown",
   "metadata": {},
   "source": [
    "### Розрахування глобальних ваг елементів ієрархії"
   ]
  },
  {
   "cell_type": "markdown",
   "metadata": {},
   "source": [
    "Розглядається варіант №3:\n",
    "- $p=3$\n",
    "- $m=\\{2,3,4\\}$\n",
    "- метод головного власного вектору, показник узгодженості CR\n",
    "- мультиплікативний метод розрахунку глобальних ваг"
   ]
  },
  {
   "cell_type": "markdown",
   "metadata": {},
   "source": [
    "#### Імпорт бібліотек"
   ]
  },
  {
   "cell_type": "code",
   "execution_count": 1,
   "metadata": {},
   "outputs": [
    {
     "name": "stdout",
     "output_type": "stream",
     "text": [
      "Populating the interactive namespace from numpy and matplotlib\n"
     ]
    }
   ],
   "source": [
    "%pylab inline\n",
    "import os.path as path\n",
    "import scipy as sp\n",
    "import pandas as pd\n",
    "from scipy import stats\n",
    "from IPython.display import display\n",
    "import pdb\n",
    "import itertools\n",
    "import scipy\n",
    "import scipy.optimize\n",
    "from scipy.optimize import linprog, minimize"
   ]
  },
  {
   "cell_type": "markdown",
   "metadata": {
    "collapsed": true
   },
   "source": [
    "### Підготовка програмних функцій"
   ]
  },
  {
   "cell_type": "markdown",
   "metadata": {},
   "source": [
    "Для визначення локальних ваг альтернатив будемо використовувати EM-метод."
   ]
  },
  {
   "cell_type": "code",
   "execution_count": 2,
   "metadata": {
    "collapsed": true
   },
   "outputs": [],
   "source": [
    "def cr_metric(lamb, dim):\n",
    "    \"\"\"\n",
    "    Eats matrix of pairwise comparisons m and produces CR metric of consistensy.\n",
    "    \"\"\"\n",
    "    # calculate ci metric\n",
    "    assert lamb >= dim, \"Greatest eigenvalue must be greater than matrix dimension.\"\n",
    "    ci = (lamb - dim)\n",
    "    if dim > 1:\n",
    "        ci /= float(dim - 1)\n",
    "    # fill the MRCI table\n",
    "    mrci = [0, 0, 0, 0.52, 0.89, 1.11, 1.25, 1.35, 1.40, 1.45, 1.49, 1.52, 1.54, 1.56, 1.58, 1.59] \n",
    "    cr = 0 if ci == 0 else ci / mrci[dim]\n",
    "    return cr\n",
    "\n",
    "def convert_to_fuzzy_matrix(d):\n",
    "    n, _ = d.shape\n",
    "    assert(n == _)\n",
    "    a = np.zeros((n, n, 3))\n",
    "    for i in range(n):\n",
    "        for j in range(n):\n",
    "            v = int(d[i, j])\n",
    "            if v == 0: continue\n",
    "            if i == j:\n",
    "                a[i, j] = [1, 1, 1]\n",
    "                continue           \n",
    "            a[i, j] = [v - 1, v, v + 1]\n",
    "            a[j, i] = [1.0/(v + 1), 1.0/v, 1.0/(v - 1)]\n",
    "    return np.array(a)\n",
    "\n",
    "def convert_fuzzy_to_interval(f, alpha):\n",
    "    n, k, p = f.shape\n",
    "    assert(p == 3)\n",
    "    assert(n == k)\n",
    "    a = np.zeros((n, n, 2))\n",
    "    for i in range(n):\n",
    "        for j in range(n):\n",
    "            cell = f[i, j]\n",
    "            if int(cell[1]) == 0: continue\n",
    "            if i == j:\n",
    "                a[i, j] = [1, 1]\n",
    "                continue\n",
    "            a[i, j] = [alpha * (cell[1] - cell[0]) + cell[0], alpha * (cell[1] - cell[2]) + cell[2]]\n",
    "            r = a[i, j]\n",
    "            a[j, i] = [1/r[1], 1/r[0]]\n",
    "    return a\n",
    "\n",
    "def fill_lower(r, a, k, i, j):\n",
    "    r[k, j + a.shape[1]] = a[i, j]\n",
    "    r[k, i] = -1\n",
    "\n",
    "def fill_upper(r, a, k, i, j):\n",
    "    r[k,  i + a.shape[0]] = 1\n",
    "    r[k,  j] = -a[i, j]\n",
    "        \n",
    "def create_matrix(a, f):\n",
    "    \" w_1^L, ... w_n^L, w_1^U, ..., w_n^[l]\"\n",
    "    n, _ =  a.shape\n",
    "    r = np.zeros((n * n, 2 * n))\n",
    "    for k, p in enumerate(itertools.product(range(n), range(n))):\n",
    "        if (p[0] != p[1]):\n",
    "            f(r, a, k, p[0], p[1])\n",
    "    return r\n",
    "\n",
    "def third_lower(n):\n",
    "    r = np.zeros((n, 2 * n))\n",
    "    for i in range(n):\n",
    "        r[i, i] = -1\n",
    "        for j in range(n):\n",
    "            if i != j:\n",
    "                r[i, j + n] = -1\n",
    "    return r\n",
    "\n",
    "def fourth_lower(n):\n",
    "    r = np.zeros((n, 2 * n))\n",
    "    for i in range(n):\n",
    "        r[i, i + n] = 1\n",
    "        for j in range(n):\n",
    "            if i != j:\n",
    "                r[i, j] = 1\n",
    "    return r\n",
    "\n",
    "def fiveth_lower(n):\n",
    "    r = np.zeros((n, 2 * n))\n",
    "    for i in range(n):\n",
    "        r[i, i] = 1\n",
    "        r[i, i + n] = -1\n",
    "    return r\n",
    "        \n",
    "def solve(l, u, sz=1):\n",
    "    m, n = l.shape\n",
    "    s = 2 * n * n\n",
    "    assert(m == n)\n",
    "    assert(l.shape == u.shape)\n",
    "    a1 = sz * create_matrix(l, fill_lower)\n",
    "    a2 = sz * create_matrix(u, fill_upper)\n",
    "    a3 = third_lower(n)\n",
    "    a4 = fourth_lower(n)\n",
    "    a5 = fiveth_lower(n)\n",
    "    a_components = [a1, a2, a3, a4, a5]\n",
    "    a = np.concatenate(a_components)\n",
    "    b = np.zeros(s + 3 * n)\n",
    "    b[s:s + n] = -1\n",
    "    b[s + n: s + 2 * n] = 1\n",
    "    c = np.zeros(n + n)\n",
    "    c[0:n] = sz\n",
    "    c[n:] = -sz\n",
    "    data = [c, a, b]\n",
    "    result = scipy.optimize.linprog(\n",
    "        *data,\n",
    "        options=dict(disp=True),\n",
    "        bounds=[(0.0001, np.inf) for i in range(n + n)]\n",
    "    )\n",
    "    return data, result\n",
    "\n",
    "def luam_upper(interval_matrix):\n",
    "    print(interval_matrix)\n",
    "    al, au = interval_matrix[:, :, 0],interval_matrix[:, :, 1]\n",
    "    _, solution = solve(al, au, sz=-1)\n",
    "    return solution.x.reshape((2,-1)), solution.fun\n",
    "    \n",
    "def em_cr(mat):\n",
    "    \"\"\"\n",
    "    Eats matrix of pairwise comparisons m and produces pair (local weights, CR metric).\n",
    "    \"\"\"\n",
    "    assert mat.shape[0] == mat.shape[1]\n",
    "    values, vectors = linalg.eig(mat)\n",
    "    max_index = np.argmax(abs(values))\n",
    "    v = vectors[:, max_index]\n",
    "    lamb = values[max_index]\n",
    "    assert (v.imag < 1e-6).all(), \"eigenvector has complex coordinates: %s\" % v.imag\n",
    "    assert lamb.imag < 1e-6, \"eigenvalue has complex coordinates: %s\" % lamb.imag\n",
    "    v = v.real\n",
    "    lamb = lamb.real\n",
    "    if (v < 0).all():\n",
    "        v = - v\n",
    "    assert (v >= 0).all(), \"eigenvector has negative coordinates: %s\" % v\n",
    "    return v / linalg.norm(v, ord=1), cr_metric(lamb, mat.shape[0])"
   ]
  },
  {
   "cell_type": "markdown",
   "metadata": {},
   "source": [
    "Нехай задані:\n",
    "- множина альтернатив $A=\\{a_i| \\; i=1,\\dots,n\\}$;\n",
    "- множина критеріїв (цілей) $C=\\{C_j| \\; j=1,\\dots,m\\}$;\n",
    "- ваги критеріїв $W^C=\\{w_j^C| \\; j=1,\\dots,m\\}$;\n",
    "- ваги альтернатив відносно критеріїв $W=\\{w_{ij}| \\; i=1,\\dots,n; \\; j=1,\\dots,m\\}$, $w_{ij}$ - вага $i$-ої альтернативи відносно $j$-ого критерію."
   ]
  },
  {
   "cell_type": "markdown",
   "metadata": {},
   "source": [
    "Необхідно визначити глобальні ваги альтернатив $W^{glob}=\\{w_i^{glob}| \\; i=1,\\dots,n\\}$."
   ]
  },
  {
   "cell_type": "markdown",
   "metadata": {},
   "source": [
    "Тоді процедура мультиплікативного синтезу визначається наступним чином:\n",
    "$$w_{i} = \\prod\\limits_{j=1}^{m} (w_{ij})^{w_j^C}$$"
   ]
  },
  {
   "cell_type": "code",
   "execution_count": 3,
   "metadata": {
    "collapsed": true
   },
   "outputs": [],
   "source": [
    "def mult_synthesis(w, wc):\n",
    "    \"\"\"\n",
    "    Performs multiplicative synthesis on given weight matrix [[w11,...,wn1],...[w1m,...,wnm]]\n",
    "    and criterion weight vector [wc1,...,wcm].\n",
    "    \"\"\"\n",
    "    assert w.shape[0] == wc.shape[0], \"Alternative and criterion matrix shapes mismatch.\"\n",
    "    v = (w.T ** wc).prod(axis=1)\n",
    "    return v / linalg.norm(v, ord=1)"
   ]
  },
  {
   "cell_type": "code",
   "execution_count": 4,
   "metadata": {
    "collapsed": true
   },
   "outputs": [],
   "source": [
    "def mult_synthesis_fuzzy(w_low, w_up, wc_low, wc_up):\n",
    "    \"\"\"\n",
    "    Performs multiplicative synthesis on given interval weight matrix [[w11,...,wn1],...[w1m,...,wnm]]\n",
    "    and criterion weight interval vector [wc1,...,wcm].\n",
    "    \"\"\"\n",
    "    m = w_low.shape[0]\n",
    "    n = w_low.shape[1]\n",
    "    w_glob_low, w_glob_up = np.zeros(n), np.zeros(n)\n",
    "    for i in range(n):\n",
    "        c_low = np.log(w_low[:, i])\n",
    "        c_up = -np.log(w_up[:, i])\n",
    "        A_ub = np.vstack((-np.eye(m), np.eye(m)))\n",
    "        b_ub = np.stack((wc_low, wc_up))\n",
    "        A_eq = np.ones((1, m))\n",
    "        b_eq = np.array([1])\n",
    "        sol_low = linprog(c_low, A_ub, b_ub, A_eq, b_eq)\n",
    "        w_glob_low[i] = np.exp(sol_low.fun)\n",
    "        sol_up = linprog(c_up, A_ub, b_ub, A_eq, b_eq)\n",
    "        w_glob_up[i] = np.exp(-sol_up.fun)\n",
    "    return w_glob_low / np.linalg.norm(w_glob_low, ord=1), w_glob_up / np.linalg.norm(w_glob_up, ord=1)"
   ]
  },
  {
   "cell_type": "code",
   "execution_count": 5,
   "metadata": {
    "collapsed": true
   },
   "outputs": [],
   "source": [
    "def mult_synthesis_fuzzy2(w_low, w_up, wc_low, wc_up):\n",
    "    \"\"\"\n",
    "    Performs multiplicative synthesis on given interval weight matrix [[w11,...,wn1],...[w1m,...,wnm]]\n",
    "    and criterion weight interval vector [wc1,...,wcm].\n",
    "    \"\"\"\n",
    "    m = w_low.shape[0]\n",
    "    n = w_low.shape[1]\n",
    "    w_glob_low, w_glob_up = np.zeros(n), np.zeros(n)\n",
    "    def dot_minimizer(vec):\n",
    "        def f(x):\n",
    "            return np.dot(x, vec), vec\n",
    "        return f\n",
    "    for i in range(n):\n",
    "        c_low = np.log(w_low[:, i])\n",
    "        c_up = -np.log(w_up[:, i])\n",
    "        prod_constr = ({'type': 'eq', 'fun': lambda x:  np.sum(x) - 1})\n",
    "        x0 = (wc_low + wc_up) / 2\n",
    "        bnds = list(zip(wc_low, wc_up))\n",
    "        sol_low = minimize(dot_minimizer(c_low), x0, method='SLSQP', jac=True, bounds=bnds,\n",
    "                           constraints=prod_constr)\n",
    "        w_glob_low[i] = np.exp(sol_low.fun)\n",
    "        sol_up = minimize(dot_minimizer(c_up), x0, method='SLSQP', jac=True, bounds=bnds,\n",
    "                          constraints=prod_constr)\n",
    "        w_glob_up[i] = np.exp(-sol_up.fun)\n",
    "#         pdb.set_trace()\n",
    "#         assert np.exp(-np.dot(c_up, sol_low.x)) <= w_glob_up[i], \"Big fail\"\n",
    "        assert np.all(w_low[:,i] < w_up[:,i]), \"Fail\"\n",
    "    divider = (np.linalg.norm(w_glob_low, ord=1) + np.linalg.norm(w_glob_up, ord=1)) / 2\n",
    "    return w_glob_low / divider, w_glob_up / divider"
   ]
  },
  {
   "cell_type": "code",
   "execution_count": 6,
   "metadata": {},
   "outputs": [],
   "source": [
    "class Hierarchy(object):\n",
    "    __slots__ = ['alpha', 'path', 'mpc_matrices', 'global_weights']\n",
    "    def __init__(self, alpha, folder, dims:list):\n",
    "        self.alpha = alpha\n",
    "        self.path = path.join(path.curdir, folder)\n",
    "        # form list of files\n",
    "        filelist = [[path.join(self.path, '0.txt')]]\n",
    "        filelist.extend([[path.join(self.path, '%d_%d.txt' % (i + 1,j)) for j in range(1, alt_count + 1)]\n",
    "                         for i, alt_count in enumerate(dims[:-1])])\n",
    "        # load data\n",
    "        def load_data(l):\n",
    "            if isinstance(l, list):\n",
    "                res = []\n",
    "                for el in l:\n",
    "                    res.append(load_data(el))\n",
    "                return res\n",
    "            return loadtxt(l)\n",
    "        self.mpc_matrices = load_data(filelist)\n",
    "        # check dimensions\n",
    "        for m_list, dim in zip(self.mpc_matrices, dims):\n",
    "            for mat in m_list:\n",
    "                assert mat.shape[0] == mat.shape[1], 'MPC is not square-shaped.'\n",
    "                assert mat.shape[0] == dim, 'MPC shape does not correspond given dimension.'\n",
    "                \n",
    "    def process_layer(self, layer, wc_low, wc_up):\n",
    "        mpcs = self.mpc_matrices[layer]\n",
    "        weights_low, weights_up = [], []\n",
    "        for criterion, mat in enumerate(mpcs):\n",
    "            mat_fuzzy = convert_to_fuzzy_matrix(mat)\n",
    "            mat_interval = convert_fuzzy_to_interval(mat_fuzzy, self.alpha)\n",
    "            w, consistency = luam_upper(mat_interval)\n",
    "            print(\"Criterion %d:%d J=%f\" %(layer, criterion + 1, consistency))\n",
    "            print(w.shape)\n",
    "            weights_low.append(w[0])\n",
    "            weights_up.append(w[1])\n",
    "        return mult_synthesis_fuzzy2(array(weights_low), array(weights_up), wc_low, wc_up)\n",
    "            \n",
    "    def solve(self):\n",
    "        self.global_weights = [(array([0.4]), array([0.6]))]\n",
    "        for layer in range(len(self.mpc_matrices)):\n",
    "            new_layer = self.process_layer(layer, *self.global_weights[-1])\n",
    "            new_layer = np.minimum(new_layer[0], new_layer[1]), np.maximum(new_layer[0], new_layer[1])\n",
    "            print(new_layer)\n",
    "            assert np.all(new_layer[0] <= new_layer[1]), \"Empty boundaries\"\n",
    "            self.global_weights.append(new_layer)\n",
    "        return self.global_weights[1:]"
   ]
  },
  {
   "cell_type": "code",
   "execution_count": 7,
   "metadata": {},
   "outputs": [],
   "source": [
    "h = Hierarchy(0.1, 'lab2_1_wd', [2, 3, 4])"
   ]
  },
  {
   "cell_type": "code",
   "execution_count": 8,
   "metadata": {
    "scrolled": false
   },
   "outputs": [
    {
     "name": "stdout",
     "output_type": "stream",
     "text": [
      "[[[ 1.          1.        ]\n",
      "  [ 0.16949153  0.24390244]]\n",
      "\n",
      " [[ 4.1         5.9       ]\n",
      "  [ 1.          1.        ]]]\n",
      "Optimization terminated successfully.\n",
      "         Current function value: 0.102302    \n",
      "         Iterations: 11\n",
      "Criterion 0:1 J=0.102302\n",
      "(2, 2)\n",
      "(array([ 0.24735568,  0.69144805]), array([ 0.34367778,  0.71751849]))\n",
      "[[[ 1.          1.        ]\n",
      "  [ 0.34482759  0.90909091]\n",
      "  [ 0.16949153  0.24390244]]\n",
      "\n",
      " [[ 1.1         2.9       ]\n",
      "  [ 1.          1.        ]\n",
      "  [ 0.34482759  0.90909091]]\n",
      "\n",
      " [[ 4.1         5.9       ]\n",
      "  [ 1.1         2.9       ]\n",
      "  [ 1.          1.        ]]]\n",
      "Optimization terminated successfully.\n",
      "         Current function value: 0.439161    \n",
      "         Iterations: 18\n",
      "Criterion 1:1 J=0.439161\n",
      "(2, 3)\n",
      "[[[ 1.          1.        ]\n",
      "  [ 0.34482759  0.90909091]\n",
      "  [ 0.16949153  0.24390244]]\n",
      "\n",
      " [[ 1.1         2.9       ]\n",
      "  [ 1.          1.        ]\n",
      "  [ 0.34482759  0.90909091]]\n",
      "\n",
      " [[ 4.1         5.9       ]\n",
      "  [ 1.1         2.9       ]\n",
      "  [ 1.          1.        ]]]\n",
      "Optimization terminated successfully.\n",
      "         Current function value: 0.439161    \n",
      "         Iterations: 18\n",
      "Criterion 1:2 J=0.439161\n",
      "(2, 3)\n",
      "(array([ 0.10220756,  0.20793951,  0.47027223]), array([ 0.18903592,  0.42752021,  0.60302457]))\n",
      "[[[ 1.          1.        ]\n",
      "  [ 0.34482759  0.90909091]\n",
      "  [ 0.16949153  0.24390244]\n",
      "  [ 0.1010101   0.12345679]]\n",
      "\n",
      " [[ 1.1         2.9       ]\n",
      "  [ 1.          1.        ]\n",
      "  [ 0.34482759  0.90909091]\n",
      "  [ 0.16949153  0.24390244]]\n",
      "\n",
      " [[ 4.1         5.9       ]\n",
      "  [ 1.1         2.9       ]\n",
      "  [ 1.          1.        ]\n",
      "  [ 0.34482759  0.90909091]]\n",
      "\n",
      " [[ 8.1         9.9       ]\n",
      "  [ 4.1         5.9       ]\n",
      "  [ 1.1         2.9       ]\n",
      "  [ 1.          1.        ]]]\n",
      "Optimization terminated successfully.\n",
      "         Current function value: 0.429714    \n",
      "         Iterations: 19\n",
      "Criterion 2:1 J=0.429714\n",
      "(2, 4)\n",
      "[[[ 1.          1.        ]\n",
      "  [ 0.34482759  0.90909091]\n",
      "  [ 0.16949153  0.24390244]\n",
      "  [ 0.1010101   0.12345679]]\n",
      "\n",
      " [[ 1.1         2.9       ]\n",
      "  [ 1.          1.        ]\n",
      "  [ 0.34482759  0.90909091]\n",
      "  [ 0.16949153  0.24390244]]\n",
      "\n",
      " [[ 4.1         5.9       ]\n",
      "  [ 1.1         2.9       ]\n",
      "  [ 1.          1.        ]\n",
      "  [ 0.34482759  0.90909091]]\n",
      "\n",
      " [[ 8.1         9.9       ]\n",
      "  [ 4.1         5.9       ]\n",
      "  [ 1.1         2.9       ]\n",
      "  [ 1.          1.        ]]]\n",
      "Optimization terminated successfully.\n",
      "         Current function value: 0.429714    \n",
      "         Iterations: 19\n",
      "Criterion 2:2 J=0.429714\n",
      "(2, 4)\n",
      "[[[ 1.          1.        ]\n",
      "  [ 0.34482759  0.90909091]\n",
      "  [ 0.16949153  0.24390244]\n",
      "  [ 0.1010101   0.12345679]]\n",
      "\n",
      " [[ 1.1         2.9       ]\n",
      "  [ 1.          1.        ]\n",
      "  [ 0.34482759  0.90909091]\n",
      "  [ 0.16949153  0.24390244]]\n",
      "\n",
      " [[ 4.1         5.9       ]\n",
      "  [ 1.1         2.9       ]\n",
      "  [ 1.          1.        ]\n",
      "  [ 0.34482759  0.90909091]]\n",
      "\n",
      " [[ 8.1         9.9       ]\n",
      "  [ 4.1         5.9       ]\n",
      "  [ 1.1         2.9       ]\n",
      "  [ 1.          1.        ]]]\n",
      "Optimization terminated successfully.\n",
      "         Current function value: 0.429714    \n",
      "         Iterations: 19\n",
      "Criterion 2:3 J=0.429714\n",
      "(2, 4)\n",
      "(array([ 0.05573308,  0.09351822,  0.19026121,  0.44563027]), array([ 0.08501656,  0.17296473,  0.40511843,  0.5517575 ]))\n"
     ]
    },
    {
     "data": {
      "text/plain": [
       "[(array([ 0.24735568,  0.69144805]), array([ 0.34367778,  0.71751849])),\n",
       " (array([ 0.10220756,  0.20793951,  0.47027223]),\n",
       "  array([ 0.18903592,  0.42752021,  0.60302457])),\n",
       " (array([ 0.05573308,  0.09351822,  0.19026121,  0.44563027]),\n",
       "  array([ 0.08501656,  0.17296473,  0.40511843,  0.5517575 ]))]"
      ]
     },
     "execution_count": 8,
     "metadata": {},
     "output_type": "execute_result"
    }
   ],
   "source": [
    "w_global = h.solve()\n",
    "w_global"
   ]
  },
  {
   "cell_type": "markdown",
   "metadata": {},
   "source": [
    "Як бачимо, глобальні ваги на нижчому рівні ієрархії:\n",
    "\n",
    "0.05573308,  0.09351822,  0.19026121,  0.44563027\n",
    "\n",
    "0.08501656,  0.17296473,  0.40511843,  0.5517575"
   ]
  },
  {
   "cell_type": "code",
   "execution_count": 9,
   "metadata": {},
   "outputs": [],
   "source": [
    "from pylab import *\n",
    "import itertools\n",
    "\n",
    "def draw(ax, l, m, u, alphas=[]):\n",
    "    ax.set_xlim((0,1))\n",
    "    ax.set_ylim((0,1))\n",
    "    ax.set_xticks([int(l*100) / 100,int(u*100) / 100])\n",
    "    ax.spines['top'].set_visible(False)\n",
    "    ax.spines['right'].set_visible(False)\n",
    "    ax.spines['left'].set_visible(False)\n",
    "    ax.yaxis.set_visible(False)\n",
    "    ax.plot([l, m, u], [0,1,0], color='r')\n",
    "    ax.fill_between([l, m, u], [0,0,0],[0,1,0], alpha=0.3, color='r')\n",
    "    for alpha in alphas:\n",
    "        assert(alpha > 0 and alpha < 1)\n",
    "        ax.step([l + alpha * (m - l), u - alpha * (u - m), u - alpha * (u - m)], [0, alpha, 0], linestyle='--', color='b')\n",
    "\n",
    "def draw_vector(l, m, u, alphas=[]):\n",
    "    fsize = (10, 4 * l.shape[0])\n",
    "    fig, axes = subplots(l.shape[0], 1, figsize=fsize)\n",
    "    for coords in itertools.product(*map(range, axes.shape)):\n",
    "        draw(axes[coords], l[coords], m[coords], u[coords], alphas)\n",
    "    fig.tight_layout()\n",
    "        \n",
    "def draw_matrix(l, m, u, alphas=[]):\n",
    "    fsize = (3 * l.shape[0], 2 * l.shape[1])\n",
    "    fig, axes = subplots(*l.shape, figsize=fsize)\n",
    "    for coords in itertools.product(*map(range, axes.shape)):\n",
    "        draw(axes[coords], l[coords], m[coords], u[coords], alphas)\n",
    "    fig.tight_layout()"
   ]
  },
  {
   "cell_type": "code",
   "execution_count": 10,
   "metadata": {
    "scrolled": false
   },
   "outputs": [
    {
     "data": {
      "image/png": "[encoded data removed]",
      "text/plain": [
       "<matplotlib.figure.Figure at 0x11496abe0>"
      ]
     },
     "metadata": {},
     "output_type": "display_data"
    }
   ],
   "source": [
    "l = w_global[-1][0]\n",
    "u = w_global[-1][1]\n",
    "m = (l + u) / 2\n",
    "draw_vector(l, m, u, alphas=[0.3, 0.5, 0.7])"
   ]
  },
  {
   "cell_type": "markdown",
   "metadata": {},
   "source": [
    "## Висновки по роботі"
   ]
  },
  {
   "cell_type": "markdown",
   "metadata": {},
   "source": [
    "Робота складалася із трьох частин.\n",
    "\n",
    "У <b>першій частині</b> лабораторної роботи було побудовано мультиплікативну матрицю парних порівнянь відповідно до умови Задачі №6 (інвестор, що розглядає можливі зміни цін акцій).\n",
    "\n",
    "У <b>другій частині</b> лабораторної роботи було побудовано мультиплікативну інтервальну матрицю парних порівнянь з матриці на першому кроці.\n",
    "\n",
    "У <b>третій частині</b> лабораторної роботи було побудовано багаторівневу повну ієрархію Із (2-ма 3-ма, 4-ма) елементами на кожному із рівнів ієрархії відповідо.\n",
    "Було розраховано глобальні ваги альтернатив на основі інтервальних матриць парних порівнянь на основі мультиплікативного методу синтезу для ІМПП."
   ]
  },
  {
   "cell_type": "code",
   "execution_count": null,
   "metadata": {
    "collapsed": true
   },
   "outputs": [],
   "source": []
  }
 ],
 "metadata": {
  "kernelspec": {
   "display_name": "Python 3",
   "language": "python",
   "name": "python3"
  },
  "language_info": {
   "codemirror_mode": {
    "name": "ipython",
    "version": 3
   },
   "file_extension": ".py",
   "mimetype": "text/x-python",
   "name": "python",
   "nbconvert_exporter": "python",
   "pygments_lexer": "ipython3",
   "version": "3.6.1"
  }
 },
 "nbformat": 4,
 "nbformat_minor": 1
}
