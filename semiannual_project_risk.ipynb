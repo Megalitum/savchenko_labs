{
 "cells": [
  {
   "cell_type": "markdown",
   "metadata": {},
   "source": [
    "# Морфологічний аналіз - ризики"
   ]
  },
  {
   "cell_type": "code",
   "execution_count": 4,
   "metadata": {
    "collapsed": true
   },
   "outputs": [],
   "source": [
    "%matplotlib inline\n",
    "import numpy as np\n",
    "import pandas as pd\n",
    "import seaborn as sns\n",
    "sns.set_style('whitegrid')\n",
    "# Jupyter rendering stuff\n",
    "from IPython.display import display, Math, Latex, HTML, clear_output\n",
    "import itertools"
   ]
  },
  {
   "cell_type": "markdown",
   "metadata": {},
   "source": [
    "## Data generation"
   ]
  },
  {
   "cell_type": "code",
   "execution_count": 1,
   "metadata": {
    "collapsed": true
   },
   "outputs": [],
   "source": [
    "def generate_probabilities(*sizes):\n",
    "    result = [np.random.random(size) for size in sizes]\n",
    "    for vec in result:\n",
    "        vec /= np.sum(vec)\n",
    "    return result"
   ]
  },
  {
   "cell_type": "code",
   "execution_count": 16,
   "metadata": {
    "collapsed": false
   },
   "outputs": [],
   "source": [
    "factor_s = (2,3,4)\n",
    "risks_no = 2\n",
    "factor_eta = [generate_probabilities(*factor_s) for r in range(risks_no)]\n",
    "factor_W =   [generate_probabilities(*factor_s) for r in range(risks_no)]"
   ]
  },
  {
   "cell_type": "markdown",
   "metadata": {},
   "source": [
    "## Setting constants"
   ]
  },
  {
   "cell_type": "code",
   "execution_count": 12,
   "metadata": {
    "collapsed": true
   },
   "outputs": [],
   "source": [
    "eta_ranges = W_ranges = np.array([0, 0.1, 0.3, 0.5, 0.7, 0.9, 1])\n",
    "# to review"
   ]
  },
  {
   "cell_type": "markdown",
   "metadata": {},
   "source": [
    "## Calculating risks"
   ]
  },
  {
   "cell_type": "code",
   "execution_count": 20,
   "metadata": {
    "collapsed": true
   },
   "outputs": [],
   "source": [
    "def aggregate_risk_values(splitted_values):\n",
    "    result = []\n",
    "    for tup in zip(*splitted_values):\n",
    "        result.append(1 - np.prod(1 - np.vstack(tup), axis=0))\n",
    "    return result"
   ]
  },
  {
   "cell_type": "code",
   "execution_count": 25,
   "metadata": {
    "collapsed": false
   },
   "outputs": [],
   "source": [
    "eta = aggregate_risk_values(factor_eta)\n",
    "W =   aggregate_risk_values(factor_W)"
   ]
  },
  {
   "cell_type": "code",
   "execution_count": 28,
   "metadata": {
    "collapsed": false
   },
   "outputs": [
    {
     "data": {
      "text/plain": [
       "([array([ 0.88210306,  0.73014592]),\n",
       "  array([ 0.35285706,  0.73960981,  0.56213555]),\n",
       "  array([ 0.58176084,  0.11311378,  0.36628775,  0.64106912])],\n",
       " [array([ 0.42761232,  0.95581969]),\n",
       "  array([ 0.69507606,  0.58317388,  0.42464573]),\n",
       "  array([ 0.55964776,  0.14737052,  0.55147262,  0.46041602])])"
      ]
     },
     "execution_count": 28,
     "metadata": {},
     "output_type": "execute_result"
    }
   ],
   "source": []
  },
  {
   "cell_type": "code",
   "execution_count": null,
   "metadata": {
    "collapsed": true
   },
   "outputs": [],
   "source": []
  }
 ],
 "metadata": {
  "kernelspec": {
   "display_name": "Python 3",
   "language": "python",
   "name": "python3"
  },
  "language_info": {
   "codemirror_mode": {
    "name": "ipython",
    "version": 3
   },
   "file_extension": ".py",
   "mimetype": "text/x-python",
   "name": "python",
   "nbconvert_exporter": "python",
   "pygments_lexer": "ipython3",
   "version": "3.5.2"
  }
 },
 "nbformat": 4,
 "nbformat_minor": 1
}
