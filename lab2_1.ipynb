{
 "cells": [
  {
   "cell_type": "markdown",
   "metadata": {
    "deletable": true,
    "editable": true
   },
   "source": [
    "# Лабораторна робота №1"
   ]
  },
  {
   "cell_type": "markdown",
   "metadata": {
    "deletable": true,
    "editable": true
   },
   "source": [
    "Бригада №3, КА-61м\n",
    "- Одобеску Владислав\n",
    "- Фатенко Владислав\n",
    "- Шевченко Тарас"
   ]
  },
  {
   "cell_type": "markdown",
   "metadata": {
    "deletable": true,
    "editable": true
   },
   "source": [
    "## Завдання"
   ]
  },
  {
   "cell_type": "markdown",
   "metadata": {
    "deletable": true,
    "editable": true
   },
   "source": [
    "Вивчити теоретичні основи методу аналізу ієрархій.\n",
    "\n",
    "Побудувати мультиплікативну матрицю парних порівнянь (МПП) оцінювання альтернатив рішень за одним критерієм за умови, що експерт дає оцінки у фундаментальній шкалі.\n",
    "\n",
    "Розрахувати глобальні ваги елементів ієрархії для повної ієрархії з $p$ рівнями, $p>2$, яка задається вектором $m=\\{(m_k)|k=1,\\dots,p\\}$, де $m_k \\in \\mathbb{N}$ - кількість елементів на $k$-му рівні ієрархії. Для цього:\n",
    "\n",
    "- зчитати з файлу кількість рівнів ієрархії та кількість елементів на кожному рівні,\n",
    "- зчитати з файлу матриці парних порівнянь елементів ієрархії,\n",
    "- розрахувати один з показників узгодженості (згідно з варіантом) матриць парних порівнянь та зробити висновки щодо рівня неузгодженості,\n",
    "- розрахувати локальні ваги елементів ієрархії одним з методів парних порівнянь (згідно з варіантом),\n",
    "- розрахувати глобальні ваги елементів ієрархії одним з методів синтезу (згідно з варіантом).\n",
    "\n",
    "Зробити висновки по роботі\n",
    "\n",
    "Дати відповіді на контрольні питання, наведені в кінці роботи."
   ]
  },
  {
   "cell_type": "markdown",
   "metadata": {
    "deletable": true,
    "editable": true
   },
   "source": [
    "## Виконання роботи"
   ]
  },
  {
   "cell_type": "markdown",
   "metadata": {
    "deletable": true,
    "editable": true
   },
   "source": [
    "### Побудова МПП\n",
    "Розглядається задача №3:"
   ]
  },
  {
   "cell_type": "markdown",
   "metadata": {
    "deletable": true,
    "editable": true
   },
   "source": [
    "> Нехай інвестор оцінює акції деякої компаній і хоче спрогнозувати, яким буде розподіл ймовірностей зміни ціни на них. Він розглядає наступні можливі варіанти зміни ціни: впаде на 20%, впаде на 10%, залишиться незмінною, зросте на 10%. Використовуючи результати фундаментального аналізу, парні порівняння варіантів зміни ціни наступні:\n",
    "- імовірність події, що ціна акцій зросте на 10% ненабагато перевищує імовірність події, що ціна акцій залишиться незмінною на протязі визначеного періоду часу і суттєво перевищує імовірності того, що ціна акцій впаде як на 10%, так і на 20%;\n",
    "- імовірність події, що ціна акцій залишиться незмінною ненабагато перевищує імовірності подій, що ціна акцій впаде як на 10%, так і на 20%;\n",
    "- імовірність події, що ціна акцій впаде на 10% ненабагато перевищує імовірність події, що ціна акцій впаде на 20%.\n",
    "\n",
    "Таблично умову можна представити у наступному вигляді:"
   ]
  },
  {
   "cell_type": "markdown",
   "metadata": {
    "deletable": true,
    "editable": true
   },
   "source": [
    "<table>\n",
    "<tr>\n",
    "<th>Варіанти зміни ціни</th>\n",
    "<th>Впаде на 20%</th>\n",
    "<th>Впаде на 10%</th>\n",
    "<th>Залишиться незмінною</th>\n",
    "<th>Зросте на 10%</th>\n",
    "</tr>\n",
    "<tr>\n",
    "<td>Впаде на 20%</td>\n",
    "<td>-</td><td>-</td><td>-</td><td>-</td>\n",
    "</tr>\n",
    "<tr>\n",
    "<td>Впаде на 10%</td>\n",
    "<td>ненабагато перевищує</td><td>-</td><td>-</td><td>-</td>\n",
    "</tr>\n",
    "<tr>\n",
    "<td>Залишиться незмінною</td>\n",
    "<td>ненабагато перевищує</td><td>ненабагато перевищує</td><td>-</td><td>-</td>\n",
    "</tr>\n",
    "<tr>\n",
    "<td>Зросте на 10%</td>\n",
    "<td>суттєво перевищує</td><td>суттєво перевищує</td><td>ненабагато перевищує</td><td>-</td>\n",
    "</tr>\n",
    "</table>"
   ]
  },
  {
   "cell_type": "markdown",
   "metadata": {
    "deletable": true,
    "editable": true
   },
   "source": [
    "Відповідно до фундаментальної шкали експертних суджень, \"суттєво перевищує\" відповідає 5, а \"ненабагато перевищує\" відповідає 3. Тоді отримуємо наступну МПП:"
   ]
  },
  {
   "cell_type": "markdown",
   "metadata": {
    "deletable": true,
    "editable": true
   },
   "source": [
    "<table>\n",
    "<tr>\n",
    "<th>Варіанти зміни ціни</th>\n",
    "<th>Впаде на 20%</th>\n",
    "<th>Впаде на 10%</th>\n",
    "<th>Залишиться незмінною</th>\n",
    "<th>Зросте на 10%</th>\n",
    "</tr>\n",
    "<tr>\n",
    "<td>Впаде на 20%</td>\n",
    "<td>1</td><td>1/3</td><td>1/3</td><td>1/5</td>\n",
    "</tr>\n",
    "<tr>\n",
    "<td>Впаде на 10%</td>\n",
    "<td>3</td><td>1</td><td>1/3</td><td>1/5</td>\n",
    "</tr>\n",
    "<tr>\n",
    "<td>Залишиться незмінною</td>\n",
    "<td>3</td><td>3</td><td>1</td><td>1/3</td>\n",
    "</tr>\n",
    "<tr>\n",
    "<td>Зросте на 10%</td>\n",
    "<td>5</td><td>5</td><td>3</td><td>1</td>\n",
    "</tr>\n",
    "</table>"
   ]
  },
  {
   "cell_type": "markdown",
   "metadata": {
    "deletable": true,
    "editable": true
   },
   "source": [
    "### Розрахування глобальних ваг елементів ієрархії"
   ]
  },
  {
   "cell_type": "markdown",
   "metadata": {
    "deletable": true,
    "editable": true
   },
   "source": [
    "Розглядається варіант №3:\n",
    "- $p=3$\n",
    "- $m=\\{2,3,4\\}$\n",
    "- метод головного власного вектору, показник узгодженості CR\n",
    "- мультиплікативний метод розрахунку глобальних ваг"
   ]
  },
  {
   "cell_type": "markdown",
   "metadata": {
    "deletable": true,
    "editable": true
   },
   "source": [
    "#### Імпорт бібліотек"
   ]
  },
  {
   "cell_type": "code",
   "execution_count": 1,
   "metadata": {
    "collapsed": false,
    "deletable": true,
    "editable": true
   },
   "outputs": [
    {
     "name": "stdout",
     "output_type": "stream",
     "text": [
      "Populating the interactive namespace from numpy and matplotlib\n"
     ]
    }
   ],
   "source": [
    "%pylab inline\n",
    "import os.path as path\n",
    "import seaborn as sns\n",
    "import scipy as sp\n",
    "import pandas as pd\n",
    "from scipy import stats\n",
    "from IPython.display import display"
   ]
  },
  {
   "cell_type": "markdown",
   "metadata": {
    "collapsed": true,
    "deletable": true,
    "editable": true
   },
   "source": [
    "### Підготовка програмних функцій"
   ]
  },
  {
   "cell_type": "markdown",
   "metadata": {
    "deletable": true,
    "editable": true
   },
   "source": [
    "Для визначення локальних ваг альтернатив будемо використовувати EM-метод."
   ]
  },
  {
   "cell_type": "code",
   "execution_count": 2,
   "metadata": {
    "collapsed": false,
    "deletable": true,
    "editable": true
   },
   "outputs": [],
   "source": [
    "def cr_metric(lamb, dim):\n",
    "    \"\"\"\n",
    "    Eats matrix of pairwise comparisons m and produces CR metric of consistensy.\n",
    "    \"\"\"\n",
    "    # calculate ci metric\n",
    "    assert lamb >= dim, \"Greatest eigenvalue must be greater than matrix dimension.\"\n",
    "    ci = (lamb - dim)\n",
    "    if dim > 1:\n",
    "        ci /= float(dim - 1)\n",
    "    # fill the MRCI table\n",
    "    mrci = [0, 0, 0, 0.52, 0.89, 1.11, 1.25, 1.35, 1.40, 1.45, 1.49, 1.52, 1.54, 1.56, 1.58, 1.59] \n",
    "    cr = 0 if ci == 0 else ci / mrci[dim]\n",
    "    return cr\n",
    "\n",
    "def em_cr(mat):\n",
    "    \"\"\"\n",
    "    Eats matrix of pairwise comparisons m and produces pair (local weights, CR metric).\n",
    "    \"\"\"\n",
    "    assert mat.shape[0] == mat.shape[1]\n",
    "    values, vectors = linalg.eig(mat)\n",
    "    max_index = np.argmax(abs(values))\n",
    "    v = vectors[:, max_index]\n",
    "    lamb = values[max_index]\n",
    "    assert (v.imag < 1e-6).all(), \"eigenvector has complex coordinates: %s\" % v.imag\n",
    "    assert lamb.imag < 1e-6, \"eigenvalue has complex coordinates: %s\" % lamb.imag\n",
    "    v = v.real\n",
    "    lamb = lamb.real\n",
    "    if (v < 0).all():\n",
    "        v = - v\n",
    "    assert (v >= 0).all(), \"eigenvector has negative coordinates: %s\" % v\n",
    "    return v / linalg.norm(v, ord=1), cr_metric(lamb, mat.shape[0])"
   ]
  },
  {
   "cell_type": "markdown",
   "metadata": {
    "deletable": true,
    "editable": true
   },
   "source": [
    "Нехай задані:\n",
    "- множина альтернатив $A=\\{a_i| \\; i=1,\\dots,n\\}$;\n",
    "- множина критеріїв (цілей) $C=\\{C_j| \\; j=1,\\dots,m\\}$;\n",
    "- ваги критеріїв $W^C=\\{w_j^C| \\; j=1,\\dots,m\\}$;\n",
    "- ваги альтернатив відносно критеріїв $W=\\{w_{ij}| \\; i=1,\\dots,n; \\; j=1,\\dots,m\\}$, $w_{ij}$ - вага $i$-ої альтернативи відносно $j$-ого критерію."
   ]
  },
  {
   "cell_type": "markdown",
   "metadata": {
    "deletable": true,
    "editable": true
   },
   "source": [
    "Необхідно визначити глобальні ваги альтернатив $W^{glob}=\\{w_i^{glob}| \\; i=1,\\dots,n\\}$."
   ]
  },
  {
   "cell_type": "markdown",
   "metadata": {
    "deletable": true,
    "editable": true
   },
   "source": [
    "Тоді процедура мультиплікативного синтезу визначається наступним чином:\n",
    "$$w_{i} = \\prod\\limits_{j=1}^{m} (w_{ij})^{w_j^C}$$"
   ]
  },
  {
   "cell_type": "code",
   "execution_count": 3,
   "metadata": {
    "collapsed": false,
    "deletable": true,
    "editable": true
   },
   "outputs": [],
   "source": [
    "def mult_synthesis(w, wc):\n",
    "    \"\"\"\n",
    "    Performs multiplicative synthesis on given weight matrix [[w11,...,wn1],...[w1m,...,wnm]]\n",
    "    and criterion weight vector [wc1,...,wcm].\n",
    "    \"\"\"\n",
    "    assert w.shape[0] == wc.shape[0], \"Alternative and criterion matrix shapes mismatch.\"\n",
    "    v = (w.T ** wc).prod(axis=1)\n",
    "    return v / linalg.norm(v, ord=1)"
   ]
  },
  {
   "cell_type": "code",
   "execution_count": 4,
   "metadata": {
    "collapsed": false,
    "deletable": true,
    "editable": true
   },
   "outputs": [],
   "source": [
    "class Hierarchy(object):\n",
    "    __slots__ = ['path', 'mpc_matrices', 'global_weights']\n",
    "    def __init__(self, folder, dims:list):\n",
    "        self.path = path.join(path.curdir, folder)\n",
    "        # form list of files\n",
    "        filelist = [[path.join(self.path, '0.txt')]]\n",
    "        filelist.extend([[path.join(self.path, '%d_%d.txt' % (i + 1,j)) for j in range(1, alt_count + 1)]\n",
    "                         for i, alt_count in enumerate(dims[:-1])])\n",
    "        # load data\n",
    "        def load_data(l):\n",
    "            if isinstance(l, list):\n",
    "                res = []\n",
    "                for el in l:\n",
    "                    res.append(load_data(el))\n",
    "                return res\n",
    "            return loadtxt(l)\n",
    "        self.mpc_matrices = load_data(filelist)\n",
    "        # check dimensions\n",
    "        for m_list, dim in zip(self.mpc_matrices, dims):\n",
    "            for mat in m_list:\n",
    "                assert mat.shape[0] == mat.shape[1], 'MPC is not square-shaped.'\n",
    "                assert mat.shape[0] == dim, 'MPC shape does not correspond given dimension.'\n",
    "                \n",
    "    def process_layer(self, layer, wc):\n",
    "        mpcs = self.mpc_matrices[layer]\n",
    "        weights = []\n",
    "        for criterion, mat in enumerate(mpcs):\n",
    "            w, cr = em_cr(mat)\n",
    "            print(\"Criterion %d:%d CR=%f\" %(layer, criterion + 1, cr))\n",
    "            weights.append(w)\n",
    "        return mult_synthesis(array(weights), wc)\n",
    "            \n",
    "    def solve(self):\n",
    "        self.global_weights = [array([1.])]\n",
    "        for layer in range(len(self.mpc_matrices)):\n",
    "            self.global_weights.append(self.process_layer(layer, self.global_weights[-1]))\n",
    "        return self.global_weights[1:]"
   ]
  },
  {
   "cell_type": "code",
   "execution_count": 5,
   "metadata": {
    "collapsed": false,
    "deletable": true,
    "editable": true
   },
   "outputs": [],
   "source": [
    "h = Hierarchy('lab2_1_wd', [2, 3, 4])"
   ]
  },
  {
   "cell_type": "code",
   "execution_count": 6,
   "metadata": {
    "collapsed": false,
    "deletable": true,
    "editable": true
   },
   "outputs": [
    {
     "name": "stdout",
     "output_type": "stream",
     "text": [
      "Criterion 0:1 CR=0.000000\n",
      "Criterion 1:1 CR=0.005322\n",
      "Criterion 1:2 CR=0.005322\n",
      "Criterion 2:1 CR=0.002853\n",
      "Criterion 2:2 CR=0.002853\n",
      "Criterion 2:3 CR=0.002853\n"
     ]
    },
    {
     "data": {
      "text/plain": [
       "[array([ 0.16666667,  0.83333333]),\n",
       " array([ 0.12827052,  0.27635046,  0.59537902]),\n",
       " array([ 0.05827148,  0.12018215,  0.26869937,  0.55284699])]"
      ]
     },
     "execution_count": 6,
     "metadata": {},
     "output_type": "execute_result"
    }
   ],
   "source": [
    "h.solve()"
   ]
  },
  {
   "cell_type": "markdown",
   "metadata": {
    "deletable": true,
    "editable": true
   },
   "source": [
    "Як бачимо, глобальні ваги на нижчому рівні ієрархії - 0.05827148,  0.12018215,  0.26869937,  0.55284699."
   ]
  },
  {
   "cell_type": "markdown",
   "metadata": {
    "deletable": true,
    "editable": true
   },
   "source": [
    "## Висновки по роботі"
   ]
  },
  {
   "cell_type": "markdown",
   "metadata": {
    "deletable": true,
    "editable": true
   },
   "source": [
    "Робота складалася із двох частин.\n",
    "\n",
    "У <b>першій частині</b> лабораторної роботи було побудовано мультиплікативну матрицю парних порівнянь відповідно до умови Задачі №6 (інвестор, що розглядає можливі зміни цін акцій).\n",
    "\n",
    "У <b>другій частині</b> лабораторної роботи було побудовано багаторівневу повну ієрархію Із (2-ма 3-ма, 4-ма) елементами на кожному із рівнів ієрархії відповідо.\n",
    "Було розраховано глобальні ваги альтернатив на основі матриць парних порівнянь."
   ]
  },
  {
   "cell_type": "code",
   "execution_count": null,
   "metadata": {
    "collapsed": true
   },
   "outputs": [],
   "source": [
    "\n"
   ]
  }
 ],
 "metadata": {
  "kernelspec": {
   "display_name": "Python 3",
   "language": "python",
   "name": "python3"
  },
  "language_info": {
   "codemirror_mode": {
    "name": "ipython",
    "version": 3
   },
   "file_extension": ".py",
   "mimetype": "text/x-python",
   "name": "python",
   "nbconvert_exporter": "python",
   "pygments_lexer": "ipython3",
   "version": "3.5.3"
  }
 },
 "nbformat": 4,
 "nbformat_minor": 1
}
