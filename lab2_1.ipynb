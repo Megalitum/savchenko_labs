{
 "cells": [
  {
   "cell_type": "markdown",
   "metadata": {},
   "source": [
    "# Лабораторна робота №1"
   ]
  },
  {
   "cell_type": "markdown",
   "metadata": {},
   "source": [
    "Бригада №3, КА-61м\n",
    "- Одобеску Владислав\n",
    "- Фатенко Владислав\n",
    "- Шевченко Тарас"
   ]
  },
  {
   "cell_type": "markdown",
   "metadata": {},
   "source": [
    "## Завдання"
   ]
  },
  {
   "cell_type": "markdown",
   "metadata": {},
   "source": [
    "Розв'язати задачу методом аналізу ієрархій, використовуючи наступні методи:\n",
    "- ідеальний синтез\n",
    "- групове врахування бінарних відношень переваг альтернатив (ГВБВПА) з ідеальним синтезом"
   ]
  },
  {
   "cell_type": "markdown",
   "metadata": {},
   "source": [
    "План виконання:\n",
    "\n",
    "#### Частина І\n",
    "1. зобразити графічно ієрархію, задану умовою задачі\n",
    "2. розв'язати задачу вказаними методами синтезу\n",
    "3. порівняти результати, отримані різними методами; якщо метод ГВБВПА виконувався для того ж типу синтезу, вказати, чи відбувся реверс рангів третього типу\n",
    "\n",
    "#### Частина ІІ\n",
    "1. додати (n+1)-у альтернативу до початкового набору альтернатив з умови задачі і згенерувати її випадкову вагу за кожним із критеріїв; пронормувати ваги за кожним із критеріїв\n",
    "2. розрахувати нові глобальні ваги заданими методами синтезу, порівняти порядок рангів старих альтернатив із отриманим в п.3 [ч.1][1]; перевірити, чи спостерігається явище реверсу рангів першого або другого типу.\n",
    "[1]: #Частина-І"
   ]
  },
  {
   "cell_type": "markdown",
   "metadata": {},
   "source": [
    "Розглядається задача №3:"
   ]
  },
  {
   "cell_type": "markdown",
   "metadata": {},
   "source": [
    "> Нехай інвестор оцінює акції деякої компаній і хоче спрогнозувати яким буде розподіл ймовірностей зміни ціни на них. Він розглядає наступні можливі варіанти зміни ціни: впаде на 20%, впаде на 10%, залишиться незмінною, зросте на 10%. Оцінки кожного варіанту за результатами проведених фундаментального та технічного аналізу, а також аналізу циклів наведені в таблиці. Результати, отримані різними методами, є для інвестора однаково важливими."
   ]
  },
  {
   "cell_type": "markdown",
   "metadata": {},
   "source": [
    "<table>\n",
    "<tr>\n",
    "<th>Варіанти зміни ціни</th>\n",
    "<th>Впаде на 20%</th>\n",
    "<th>Впаде на 10%</th>\n",
    "<th>Залишиться незмінною</th>\n",
    "<th>Зросте на 10%</th>\n",
    "</tr>\n",
    "<tr>\n",
    "<td>Впаде на 20%</td>\n",
    "<td>-</td><td>-</td><td>-</td><td>-</td>\n",
    "</tr>\n",
    "<tr>\n",
    "<td>Впаде на 10%</td>\n",
    "<td>ненабагато перевищує</td><td>-</td><td>-</td><td>-</td>\n",
    "</tr>\n",
    "<tr>\n",
    "<td>Залишиться незмінною</td>\n",
    "<td>ненабагато перевищує</td><td>ненабагато перевищує</td><td>-</td><td>-</td>\n",
    "</tr>\n",
    "<tr>\n",
    "<td>Зросте на 10%</td>\n",
    "<td>суттєво перевищує</td><td>суттєво перевищує</td><td>ненабагато перевищує</td><td>-</td>\n",
    "</tr>\n",
    "</table>"
   ]
  },
  {
   "cell_type": "markdown",
   "metadata": {},
   "source": [
    "## Виконання роботи"
   ]
  },
  {
   "cell_type": "markdown",
   "metadata": {},
   "source": [
    "### Імпорт бібліотек"
   ]
  },
  {
   "cell_type": "code",
   "execution_count": 1,
   "metadata": {
    "collapsed": false
   },
   "outputs": [
    {
     "name": "stdout",
     "output_type": "stream",
     "text": [
      "Populating the interactive namespace from numpy and matplotlib\n"
     ]
    }
   ],
   "source": [
    "%pylab inline\n",
    "import seaborn as sns\n",
    "import scipy as sp\n",
    "import pandas as pd\n",
    "from scipy import stats\n",
    "from IPython.display import display"
   ]
  },
  {
   "cell_type": "markdown",
   "metadata": {
    "collapsed": true
   },
   "source": [
    "### Підготовка програмних функцій"
   ]
  },
  {
   "cell_type": "markdown",
   "metadata": {},
   "source": [
    "Для визначення ваг альтернатив опісля застосування методу ГВБВПА будемо використовувати EM-метод."
   ]
  },
  {
   "cell_type": "code",
   "execution_count": 2,
   "metadata": {
    "collapsed": false
   },
   "outputs": [],
   "source": [
    "def em(mat):\n",
    "    \"\"\"\n",
    "    EM-method to determine alternatives' weights.\n",
    "    \"\"\"\n",
    "    values, vectors = linalg.eig(mat)\n",
    "    v = vectors[:, np.argmax(abs(values))]\n",
    "    assert (v.imag < 1e-6).all(), \"eigenvector has complex coordinates: %s\" % v.imag\n",
    "    v = v.real\n",
    "    if (v < 0).all():\n",
    "        v = - v\n",
    "    assert (v >= 0).all(), \"eigenvector has negative coordinates: %s\" % v\n",
    "    return v / linalg.norm(v, ord=1)"
   ]
  },
  {
   "cell_type": "markdown",
   "metadata": {},
   "source": [
    "Нехай задані:\n",
    "- множина альтернатив $A=\\{a_i| \\; i=1,\\dots,n\\}$;\n",
    "- множина критеріїв (цілей) $C=\\{C_j| \\; j=1,\\dots,m\\}$;\n",
    "- ваги критеріїв $W^C=\\{w_j^C| \\; j=1,\\dots,m\\}$;\n",
    "- ваги альтернатив відносно критеріїв $W=\\{w_{ij}| \\; i=1,\\dots,n; \\; j=1,\\dots,m\\}$, $w_{ij}$ - вага $i$-ої альтернативи відносно $j$-ого критерію."
   ]
  },
  {
   "cell_type": "markdown",
   "metadata": {},
   "source": [
    "Необхідно визначити глобальні ваги альтернатив $W^{glob}=\\{w_i^{glob}| \\; i=1,\\dots,n\\}$."
   ]
  },
  {
   "cell_type": "markdown",
   "metadata": {},
   "source": [
    "Тоді процедура ідеального синтезу визначається наступним чином:\n",
    "$$r_{ij} = \\frac{w_{ij}}{\\max\\limits_{i=\\overline{1,n}}{w_{ij}}} \\quad v_i^{glob}=\\sum\\limits_{j=1}^m r_{ij} w_j^C$$\n",
    "$$w_j^{glob} = \\frac{v_i^{glob}}{\\sum\\limits_{i=1}^n v_{i}^{glob}}$$"
   ]
  },
  {
   "cell_type": "code",
   "execution_count": 3,
   "metadata": {
    "collapsed": true
   },
   "outputs": [],
   "source": [
    "def perfect_synthesis(w, wc):\n",
    "    \"\"\"\n",
    "    Performs perfect synthesis on given weight matrix [[w11,...,wn1],...[w1m,...,wnm]]\n",
    "    and criterion weight vector [wc1,...,wcm].\n",
    "    \"\"\"\n",
    "    r = w.T / w.max(axis=1)\n",
    "    v = sum(r * wc, axis=1)\n",
    "    return v / linalg.norm(v, ord=1)"
   ]
  },
  {
   "cell_type": "markdown",
   "metadata": {},
   "source": [
    "Метод ГВБВПА з ідеальним синтезом полягає в застосуванні ідеального синтезу для кожної пари альтернатив окремо, отримуючи пари ваг $w_i^{ij}, w_j^{ij},\\; i,j=1,\\dots,n$. Далі за допомогою цих ваг будується МПП $P=\\left(\\frac{w_i^{ij} }{ w_j^{ij}}\\right)_{i,j=\\overline{1,n}}$.\n",
    "До отриманої матриці попарних порівнянь застосовується один із методів для одиничних критеріїв (в нашому випадку буде використовуватися EM, як вже було зазначено)."
   ]
  },
  {
   "cell_type": "code",
   "execution_count": 4,
   "metadata": {
    "collapsed": false
   },
   "outputs": [],
   "source": [
    "def gcbraa(w, wc, synt):\n",
    "    \n",
    "    \"\"\"\n",
    "    Performs GCBRAA synthesis on given weight matrix [[w11,...,wn1],...[w1m,...,wnm]]\n",
    "    and criterion weight vector [wc1,...,wcm].\n",
    "    Using synthesis method synt.\n",
    "    \"\"\"\n",
    "    assert (abs(w.sum(axis=1) - 1) < 1e-3).all(), \"given alternative weights are not normalized: %s\" % w.sum(axis=1)\n",
    "    assert abs(wc.sum() - 1) < 1e-3             , \"given criterion weights are not normalized: %s\" % wc.sum()\n",
    "    prm = identity(w.shape[1])\n",
    "    alt_count = w.shape[1]\n",
    "    for i in range(alt_count - 1):\n",
    "        for j in range(i + 1, alt_count):\n",
    "            weights = synt(w[:,(i,j)], wc)\n",
    "            prm[i, j], prm[j, i] = weights[0] / weights[1], weights[1] / weights[0]\n",
    "    return em(prm)"
   ]
  },
  {
   "cell_type": "markdown",
   "metadata": {},
   "source": [
    " ### Частина I"
   ]
  },
  {
   "cell_type": "markdown",
   "metadata": {},
   "source": [
    "![alt](diah_hierarchy.jpg)"
   ]
  },
  {
   "cell_type": "markdown",
   "metadata": {},
   "source": [
    "Введемо вихідні дані відповідно до умови задачі. Маємо 3 критерії: фундаментальний аналіз, технічний аналіз, аналіз циклів. Кожен з цих методів має однакову важливість для інвестора, тому $W^C=\\{\\frac13, \\frac13, \\frac13\\}$."
   ]
  },
  {
   "cell_type": "code",
   "execution_count": 5,
   "metadata": {
    "collapsed": false
   },
   "outputs": [
    {
     "data": {
      "text/html": [
       "<div>\n",
       "<table border=\"1\" class=\"dataframe\">\n",
       "  <thead>\n",
       "    <tr style=\"text-align: right;\">\n",
       "      <th></th>\n",
       "      <th>fundamental analysis</th>\n",
       "      <th>technical analysis</th>\n",
       "      <th>cycle analysis</th>\n",
       "    </tr>\n",
       "  </thead>\n",
       "  <tbody>\n",
       "    <tr>\n",
       "      <th>20% drop</th>\n",
       "      <td>0.100000</td>\n",
       "      <td>0.100000</td>\n",
       "      <td>0.150000</td>\n",
       "    </tr>\n",
       "    <tr>\n",
       "      <th>10% drop</th>\n",
       "      <td>0.200000</td>\n",
       "      <td>0.200000</td>\n",
       "      <td>0.250000</td>\n",
       "    </tr>\n",
       "    <tr>\n",
       "      <th>stable</th>\n",
       "      <td>0.300000</td>\n",
       "      <td>0.300000</td>\n",
       "      <td>0.350000</td>\n",
       "    </tr>\n",
       "    <tr>\n",
       "      <th>10% rise</th>\n",
       "      <td>0.400000</td>\n",
       "      <td>0.400000</td>\n",
       "      <td>0.250000</td>\n",
       "    </tr>\n",
       "    <tr>\n",
       "      <th>$w^C$</th>\n",
       "      <td>0.333333</td>\n",
       "      <td>0.333333</td>\n",
       "      <td>0.333333</td>\n",
       "    </tr>\n",
       "  </tbody>\n",
       "</table>\n",
       "</div>"
      ],
      "text/plain": [
       "          fundamental analysis  technical analysis  cycle analysis\n",
       "20% drop              0.100000            0.100000        0.150000\n",
       "10% drop              0.200000            0.200000        0.250000\n",
       "stable                0.300000            0.300000        0.350000\n",
       "10% rise              0.400000            0.400000        0.250000\n",
       "$w^C$                 0.333333            0.333333        0.333333"
      ]
     },
     "metadata": {},
     "output_type": "display_data"
    }
   ],
   "source": [
    "w = array([[0.1, 0.2, 0.3, 0.4],\n",
    "           [0.1, 0.2, 0.3, 0.4],\n",
    "           [0.15, 0.25, 0.35, 0.25]])\n",
    "wc = ones(3) / 3 # all criterions have same importance\n",
    "criterions = ['fundamental analysis', 'technical analysis', 'cycle analysis']\n",
    "alternatives = ['20% drop', '10% drop', 'stable', '10% rise']\n",
    "display(pd.DataFrame(vstack((w.T, wc)), columns=criterions, index=alternatives+['$w^C$']))"
   ]
  },
  {
   "cell_type": "markdown",
   "metadata": {},
   "source": [
    "Застосуємо метод ідеального синтезу:"
   ]
  },
  {
   "cell_type": "code",
   "execution_count": 6,
   "metadata": {
    "collapsed": false
   },
   "outputs": [
    {
     "data": {
      "text/html": [
       "<div>\n",
       "<table border=\"1\" class=\"dataframe\">\n",
       "  <thead>\n",
       "    <tr style=\"text-align: right;\">\n",
       "      <th></th>\n",
       "      <th>20% drop</th>\n",
       "      <th>10% drop</th>\n",
       "      <th>stable</th>\n",
       "      <th>10% rise</th>\n",
       "    </tr>\n",
       "  </thead>\n",
       "  <tbody>\n",
       "    <tr>\n",
       "      <th>0</th>\n",
       "      <td>0.118182</td>\n",
       "      <td>0.218182</td>\n",
       "      <td>0.318182</td>\n",
       "      <td>0.345455</td>\n",
       "    </tr>\n",
       "  </tbody>\n",
       "</table>\n",
       "</div>"
      ],
      "text/plain": [
       "   20% drop  10% drop    stable  10% rise\n",
       "0  0.118182  0.218182  0.318182  0.345455"
      ]
     },
     "metadata": {},
     "output_type": "display_data"
    }
   ],
   "source": [
    "display(pd.DataFrame(perfect_synthesis(w, wc)[newaxis,:], columns=alternatives))"
   ]
  },
  {
   "cell_type": "markdown",
   "metadata": {},
   "source": [
    "Застосуємо метод ГВБВПА з ідеальним синтезом:"
   ]
  },
  {
   "cell_type": "code",
   "execution_count": 7,
   "metadata": {
    "collapsed": false
   },
   "outputs": [
    {
     "data": {
      "text/html": [
       "<div>\n",
       "<table border=\"1\" class=\"dataframe\">\n",
       "  <thead>\n",
       "    <tr style=\"text-align: right;\">\n",
       "      <th></th>\n",
       "      <th>20% drop</th>\n",
       "      <th>10% drop</th>\n",
       "      <th>stable</th>\n",
       "      <th>10% rise</th>\n",
       "    </tr>\n",
       "  </thead>\n",
       "  <tbody>\n",
       "    <tr>\n",
       "      <th>0</th>\n",
       "      <td>0.119754</td>\n",
       "      <td>0.222628</td>\n",
       "      <td>0.321256</td>\n",
       "      <td>0.336362</td>\n",
       "    </tr>\n",
       "  </tbody>\n",
       "</table>\n",
       "</div>"
      ],
      "text/plain": [
       "   20% drop  10% drop    stable  10% rise\n",
       "0  0.119754  0.222628  0.321256  0.336362"
      ]
     },
     "metadata": {},
     "output_type": "display_data"
    }
   ],
   "source": [
    "display(pd.DataFrame(gcbraa(w, wc, perfect_synthesis)[newaxis,:], columns=alternatives))"
   ]
  },
  {
   "cell_type": "markdown",
   "metadata": {},
   "source": [
    "Як видно, альтернативи 'не зміниться' та 'збільшиться на 10%' стали ближчими, але реверс рангів 3-го роду не відбувся, адже порядок альтернатив відсортованих за ймовірністю не змінився. Порядок альтернатив за зростанням ваги: $A_1, A_2, A_3, A_4$."
   ]
  },
  {
   "cell_type": "markdown",
   "metadata": {},
   "source": [
    "### Частина II"
   ]
  },
  {
   "cell_type": "markdown",
   "metadata": {},
   "source": [
    "Додамо нову альтернативу 'зросте на 20%' та дамо їй випадкові ваги за всіма критеріями, після цього нормуємо матрицю ваг."
   ]
  },
  {
   "cell_type": "code",
   "execution_count": 8,
   "metadata": {
    "collapsed": false
   },
   "outputs": [
    {
     "data": {
      "text/html": [
       "<div>\n",
       "<table border=\"1\" class=\"dataframe\">\n",
       "  <thead>\n",
       "    <tr style=\"text-align: right;\">\n",
       "      <th></th>\n",
       "      <th>fundamental analysis</th>\n",
       "      <th>technical analysis</th>\n",
       "      <th>cycle analysis</th>\n",
       "    </tr>\n",
       "  </thead>\n",
       "  <tbody>\n",
       "    <tr>\n",
       "      <th>20% drop</th>\n",
       "      <td>0.057600</td>\n",
       "      <td>0.052212</td>\n",
       "      <td>0.078537</td>\n",
       "    </tr>\n",
       "    <tr>\n",
       "      <th>10% drop</th>\n",
       "      <td>0.115200</td>\n",
       "      <td>0.104424</td>\n",
       "      <td>0.130895</td>\n",
       "    </tr>\n",
       "    <tr>\n",
       "      <th>stable</th>\n",
       "      <td>0.172800</td>\n",
       "      <td>0.156636</td>\n",
       "      <td>0.183253</td>\n",
       "    </tr>\n",
       "    <tr>\n",
       "      <th>10% rise</th>\n",
       "      <td>0.230400</td>\n",
       "      <td>0.208848</td>\n",
       "      <td>0.130895</td>\n",
       "    </tr>\n",
       "    <tr>\n",
       "      <th>20% rise</th>\n",
       "      <td>0.424000</td>\n",
       "      <td>0.477881</td>\n",
       "      <td>0.476421</td>\n",
       "    </tr>\n",
       "    <tr>\n",
       "      <th>$w^C$</th>\n",
       "      <td>0.333333</td>\n",
       "      <td>0.333333</td>\n",
       "      <td>0.333333</td>\n",
       "    </tr>\n",
       "  </tbody>\n",
       "</table>\n",
       "</div>"
      ],
      "text/plain": [
       "          fundamental analysis  technical analysis  cycle analysis\n",
       "20% drop              0.057600            0.052212        0.078537\n",
       "10% drop              0.115200            0.104424        0.130895\n",
       "stable                0.172800            0.156636        0.183253\n",
       "10% rise              0.230400            0.208848        0.130895\n",
       "20% rise              0.424000            0.477881        0.476421\n",
       "$w^C$                 0.333333            0.333333        0.333333"
      ]
     },
     "metadata": {},
     "output_type": "display_data"
    }
   ],
   "source": [
    "alternatives_mod = alternatives + ['20% rise']\n",
    "w_mod = hstack((w, random.uniform(0,1,size=3)[:, newaxis]))\n",
    "w_mod /= w_mod.sum(axis=1)[:, newaxis]\n",
    "display(pd.DataFrame(vstack((w_mod.T, wc)), columns=criterions, index=alternatives_mod+['$w^C$']))"
   ]
  },
  {
   "cell_type": "markdown",
   "metadata": {},
   "source": [
    "Застосуємо метод ідеального синтезу:"
   ]
  },
  {
   "cell_type": "code",
   "execution_count": 9,
   "metadata": {
    "collapsed": false
   },
   "outputs": [
    {
     "data": {
      "text/html": [
       "<div>\n",
       "<table border=\"1\" class=\"dataframe\">\n",
       "  <thead>\n",
       "    <tr style=\"text-align: right;\">\n",
       "      <th></th>\n",
       "      <th>20% drop</th>\n",
       "      <th>10% drop</th>\n",
       "      <th>stable</th>\n",
       "      <th>10% rise</th>\n",
       "      <th>20% rise</th>\n",
       "    </tr>\n",
       "  </thead>\n",
       "  <tbody>\n",
       "    <tr>\n",
       "      <th>0</th>\n",
       "      <td>0.062588</td>\n",
       "      <td>0.116787</td>\n",
       "      <td>0.170985</td>\n",
       "      <td>0.191628</td>\n",
       "      <td>0.458012</td>\n",
       "    </tr>\n",
       "  </tbody>\n",
       "</table>\n",
       "</div>"
      ],
      "text/plain": [
       "   20% drop  10% drop    stable  10% rise  20% rise\n",
       "0  0.062588  0.116787  0.170985  0.191628  0.458012"
      ]
     },
     "metadata": {},
     "output_type": "display_data"
    }
   ],
   "source": [
    "display(pd.DataFrame(perfect_synthesis(w_mod, wc)[newaxis,:], columns=alternatives_mod))"
   ]
  },
  {
   "cell_type": "markdown",
   "metadata": {},
   "source": [
    "Застосуємо метод ГВБВПА з ідеальним синтезом:"
   ]
  },
  {
   "cell_type": "code",
   "execution_count": 10,
   "metadata": {
    "collapsed": false,
    "scrolled": true
   },
   "outputs": [
    {
     "data": {
      "text/html": [
       "<div>\n",
       "<table border=\"1\" class=\"dataframe\">\n",
       "  <thead>\n",
       "    <tr style=\"text-align: right;\">\n",
       "      <th></th>\n",
       "      <th>20% drop</th>\n",
       "      <th>10% drop</th>\n",
       "      <th>stable</th>\n",
       "      <th>10% rise</th>\n",
       "      <th>20% rise</th>\n",
       "    </tr>\n",
       "  </thead>\n",
       "  <tbody>\n",
       "    <tr>\n",
       "      <th>0</th>\n",
       "      <td>0.064221</td>\n",
       "      <td>0.119467</td>\n",
       "      <td>0.172863</td>\n",
       "      <td>0.183549</td>\n",
       "      <td>0.4599</td>\n",
       "    </tr>\n",
       "  </tbody>\n",
       "</table>\n",
       "</div>"
      ],
      "text/plain": [
       "   20% drop  10% drop    stable  10% rise  20% rise\n",
       "0  0.064221  0.119467  0.172863  0.183549    0.4599"
      ]
     },
     "metadata": {},
     "output_type": "display_data"
    }
   ],
   "source": [
    "display(pd.DataFrame(gcbraa(w_mod, wc, perfect_synthesis)[newaxis,:], columns=alternatives_mod))"
   ]
  },
  {
   "cell_type": "markdown",
   "metadata": {},
   "source": [
    "Як видно, реверс рангів першого, а тим паче другого роду, відсутній."
   ]
  },
  {
   "cell_type": "markdown",
   "metadata": {},
   "source": [
    "### Висновок"
   ]
  },
  {
   "cell_type": "markdown",
   "metadata": {},
   "source": [
    "Під час виконання лабораторної роботи було розв'язано задачу методом аналізу ієрархій, а саме за допомогою методу ідеального синтезу та методу ГВБВПА з ідеальним синтезом.\n",
    "Було проведено тестування на існування реверсу рангів 1-3 роду, результат негативний.\n",
    "Остаточний порядок альтернатив: $A_1 \\prec A_2 \\prec A_3 \\prec A_4$."
   ]
  },
  {
   "cell_type": "markdown",
   "metadata": {},
   "source": [
    "|  Код  |          Ім'я         |\n",
    "|:-----:|:---------------------:|\n",
    "| $A_1$ |      Впаде на 20%     |\n",
    "| $A_2$ |      Впаде на 10%     |\n",
    "| $A_3$ | Залишиться не змінною |\n",
    "| $A_4$ |     Зросте на 10%     |"
   ]
  }
 ],
 "metadata": {
  "kernelspec": {
   "display_name": "Python 3",
   "language": "python",
   "name": "python3"
  },
  "language_info": {
   "codemirror_mode": {
    "name": "ipython",
    "version": 3
   },
   "file_extension": ".py",
   "mimetype": "text/x-python",
   "name": "python",
   "nbconvert_exporter": "python",
   "pygments_lexer": "ipython3",
   "version": "3.6.0"
  }
 },
 "nbformat": 4,
 "nbformat_minor": 1
}
