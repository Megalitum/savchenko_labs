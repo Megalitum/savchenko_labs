{
 "cells": [
  {
   "cell_type": "markdown",
   "metadata": {},
   "source": [
    "# Лабораторна робота №1"
   ]
  },
  {
   "cell_type": "markdown",
   "metadata": {},
   "source": [
    "Бригада №3, КА-61м\n",
    "- Одобеску Владислав\n",
    "- Фатенко Владислав\n",
    "- Шевченко Тарас"
   ]
  },
  {
   "cell_type": "markdown",
   "metadata": {},
   "source": [
    "## Завдання"
   ]
  },
  {
   "cell_type": "markdown",
   "metadata": {},
   "source": [
    "Вивчити теоретичні основи методу аналізу ієрархій.\n",
    "\n",
    "Побудувати мультиплікативну матрицю парних порівнянь (МПП) оцінювання альтернатив рішень за одним критерієм за умови, що експерт дає оцінки у фундаментальній шкалі.\n",
    "\n",
    "Розрахувати глобальні ваги елементів ієрархії для повної ієрархії з $p$ рівнями, $p>2$, яка задається вектором $m=\\{(m_k)|k=1,\\dots,p\\}$, де $m_k \\in \\mathbb{N}$ - кількість елементів на $k$-му рівні ієрархії. Для цього:\n",
    "\n",
    "- зчитати з файлу кількість рівнів ієрархії та кількість елементів на кожному рівні,\n",
    "- зчитати з файлу матриці парних порівнянь елементів ієрархії,\n",
    "- розрахувати один з показників узгодженості (згідно з варіантом) матриць парних порівнянь та зробити висновки щодо рівня неузгодженості,\n",
    "- розрахувати локальні ваги елементів ієрархії одним з методів парних порівнянь (згідно з варіантом),\n",
    "- розрахувати глобальні ваги елементів ієрархії одним з методів синтезу (згідно з варіантом).\n",
    "\n",
    "Зробити висновки по роботі\n",
    "\n",
    "Дати відповіді на контрольні питання, наведені в кінці роботи."
   ]
  },
  {
   "cell_type": "markdown",
   "metadata": {},
   "source": [
    "## Виконання роботи"
   ]
  },
  {
   "cell_type": "markdown",
   "metadata": {},
   "source": [
    "### Побудова МПП\n",
    "Розглядається задача №3:"
   ]
  },
  {
   "cell_type": "markdown",
   "metadata": {},
   "source": [
    "> Нехай інвестор оцінює акції деякої компаній і хоче спрогнозувати, яким буде розподіл ймовірностей зміни ціни на них. Він розглядає наступні можливі варіанти зміни ціни: впаде на 20%, впаде на 10%, залишиться незмінною, зросте на 10%. Використовуючи результати фундаментального аналізу, парні порівняння варіантів зміни ціни наступні:\n",
    "- імовірність події, що ціна акцій зросте на 10% ненабагато перевищує імовірність події, що ціна акцій залишиться незмінною на протязі визначеного періоду часу і суттєво перевищує імовірності того, що ціна акцій впаде як на 10%, так і на 20%;\n",
    "- імовірність події, що ціна акцій залишиться незмінною ненабагато перевищує імовірності подій, що ціна акцій впаде як на 10%, так і на 20%;\n",
    "- імовірність події, що ціна акцій впаде на 10% ненабагато перевищує імовірність події, що ціна акцій впаде на 20%.\n",
    "\n",
    "Таблично умову можна представити у наступному вигляді:"
   ]
  },
  {
   "cell_type": "markdown",
   "metadata": {},
   "source": [
    "<table>\n",
    "<tr>\n",
    "<th>Варіанти зміни ціни</th>\n",
    "<th>Впаде на 20%</th>\n",
    "<th>Впаде на 10%</th>\n",
    "<th>Залишиться незмінною</th>\n",
    "<th>Зросте на 10%</th>\n",
    "</tr>\n",
    "<tr>\n",
    "<td>Впаде на 20%</td>\n",
    "<td>-</td><td>-</td><td>-</td><td>-</td>\n",
    "</tr>\n",
    "<tr>\n",
    "<td>Впаде на 10%</td>\n",
    "<td>ненабагато перевищує</td><td>-</td><td>-</td><td>-</td>\n",
    "</tr>\n",
    "<tr>\n",
    "<td>Залишиться незмінною</td>\n",
    "<td>ненабагато перевищує</td><td>ненабагато перевищує</td><td>-</td><td>-</td>\n",
    "</tr>\n",
    "<tr>\n",
    "<td>Зросте на 10%</td>\n",
    "<td>суттєво перевищує</td><td>суттєво перевищує</td><td>ненабагато перевищує</td><td>-</td>\n",
    "</tr>\n",
    "</table>"
   ]
  },
  {
   "cell_type": "markdown",
   "metadata": {},
   "source": [
    "Відповідно до фундаментальної шкали експертних суджень, \"суттєво перевищує\" відповідає 5, а \"ненабагато перевищує\" відповідає 3. Тоді отримуємо наступну МПП:"
   ]
  },
  {
   "cell_type": "markdown",
   "metadata": {},
   "source": [
    "<table>\n",
    "<tr>\n",
    "<th>Варіанти зміни ціни</th>\n",
    "<th>Впаде на 20%</th>\n",
    "<th>Впаде на 10%</th>\n",
    "<th>Залишиться незмінною</th>\n",
    "<th>Зросте на 10%</th>\n",
    "</tr>\n",
    "<tr>\n",
    "<td>Впаде на 20%</td>\n",
    "<td>1</td><td>1/3</td><td>1/3</td><td>1/5</td>\n",
    "</tr>\n",
    "<tr>\n",
    "<td>Впаде на 10%</td>\n",
    "<td>3</td><td>1</td><td>1/3</td><td>1/5</td>\n",
    "</tr>\n",
    "<tr>\n",
    "<td>Залишиться незмінною</td>\n",
    "<td>3</td><td>3</td><td>1</td><td>1/3</td>\n",
    "</tr>\n",
    "<tr>\n",
    "<td>Зросте на 10%</td>\n",
    "<td>5</td><td>5</td><td>3</td><td>1</td>\n",
    "</tr>\n",
    "</table>"
   ]
  },
  {
   "cell_type": "markdown",
   "metadata": {},
   "source": [
    "### Розрахування глобальних ваг елементів ієрархії"
   ]
  },
  {
   "cell_type": "markdown",
   "metadata": {},
   "source": [
    "Розглядається варіант №3:\n",
    "- $p=3$\n",
    "- $m=\\{2,3,4\\}$\n",
    "- метод головного власного вектору, показник узгодженості CR\n",
    "- мультиплікативний метод розрахунку глобальних ваг"
   ]
  },
  {
   "cell_type": "markdown",
   "metadata": {},
   "source": [
    "#### Імпорт бібліотек"
   ]
  },
  {
   "cell_type": "code",
   "execution_count": 1,
   "metadata": {
    "collapsed": false
   },
   "outputs": [
    {
     "name": "stdout",
     "output_type": "stream",
     "text": [
      "Populating the interactive namespace from numpy and matplotlib\n"
     ]
    }
   ],
   "source": [
    "%pylab inline\n",
    "import seaborn as sns\n",
    "import scipy as sp\n",
    "import pandas as pd\n",
    "from scipy import stats\n",
    "from IPython.display import display"
   ]
  },
  {
   "cell_type": "markdown",
   "metadata": {
    "collapsed": true
   },
   "source": [
    "### Підготовка програмних функцій"
   ]
  },
  {
   "cell_type": "markdown",
   "metadata": {},
   "source": [
    "Для визначення локальних ваг альтернатив будемо використовувати EM-метод."
   ]
  },
  {
   "cell_type": "code",
   "execution_count": 1,
   "metadata": {
    "collapsed": false
   },
   "outputs": [],
   "source": [
    "def cr_metric(lamb, dim):\n",
    "    \"\"\"\n",
    "    Eats matrix of pairwise comparisons m and produces CR metric of consistensy.\n",
    "    \"\"\"\n",
    "    # calculate ci metric\n",
    "    assert lamb >= dim, \"Greatest eigenvalue must be greater than matrix dimension.\"\n",
    "    ci = (lamb - dim)\n",
    "    if dim > 1:\n",
    "        ci /= (dim - 1)\n",
    "    # fill the MRCI table\n",
    "    mrci = [0, 0, 0, 0.52, 0.89, 1.11, 1.25, 1.35, 1.40, 1.45, 1.49, 1.52, 1.54, 1.56, 1.58, 1.59] \n",
    "    cr = ci / mrci[m.shape[0]]\n",
    "    return cr\n",
    "\n",
    "def em_ci(mat):\n",
    "    \"\"\"\n",
    "    Eats matrix of pairwise comparisons m and produces pair (local weights, CR metric)\n",
    "    \"\"\"\n",
    "    assert mat.shape[0] == mat.shape[1]\n",
    "    values, vectors = linalg.eig(mat)\n",
    "    max_index = np.argmax(abs(values))\n",
    "    v = vectors[:, max_index]\n",
    "    lamb = values[max_index]\n",
    "    assert (v.imag < 1e-6).all(), \"eigenvector has complex coordinates: %s\" % v.imag\n",
    "    v = v.real\n",
    "    if (v < 0).all():\n",
    "        v = - v\n",
    "    assert (v >= 0).all(), \"eigenvector has negative coordinates: %s\" % v\n",
    "    return v / linalg.norm(v, ord=1), cr_metric(lamb, float(mat.shape[0]))"
   ]
  },
  {
   "cell_type": "markdown",
   "metadata": {},
   "source": [
    "Нехай задані:\n",
    "- множина альтернатив $A=\\{a_i| \\; i=1,\\dots,n\\}$;\n",
    "- множина критеріїв (цілей) $C=\\{C_j| \\; j=1,\\dots,m\\}$;\n",
    "- ваги критеріїв $W^C=\\{w_j^C| \\; j=1,\\dots,m\\}$;\n",
    "- ваги альтернатив відносно критеріїв $W=\\{w_{ij}| \\; i=1,\\dots,n; \\; j=1,\\dots,m\\}$, $w_{ij}$ - вага $i$-ої альтернативи відносно $j$-ого критерію."
   ]
  },
  {
   "cell_type": "markdown",
   "metadata": {},
   "source": [
    "Необхідно визначити глобальні ваги альтернатив $W^{glob}=\\{w_i^{glob}| \\; i=1,\\dots,n\\}$."
   ]
  },
  {
   "cell_type": "markdown",
   "metadata": {},
   "source": [
    "Тоді процедура мультиплікативного синтезу визначається наступним чином:\n",
    "$$w_{i} = \\prod\\limits_{j=1}^{m} (w_{ij})^{w_j^C}$$"
   ]
  }
 ],
 "metadata": {
  "kernelspec": {
   "display_name": "Python 3",
   "language": "python",
   "name": "python3"
  },
  "language_info": {
   "codemirror_mode": {
    "name": "ipython",
    "version": 3
   },
   "file_extension": ".py",
   "mimetype": "text/x-python",
   "name": "python",
   "nbconvert_exporter": "python",
   "pygments_lexer": "ipython3",
   "version": "3.6.0"
  }
 },
 "nbformat": 4,
 "nbformat_minor": 1
}
