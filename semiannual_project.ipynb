{
 "cells": [
  {
   "cell_type": "markdown",
   "metadata": {},
   "source": [
    "# Морфологічний аналіз"
   ]
  },
  {
   "cell_type": "code",
   "execution_count": 1,
   "metadata": {
    "collapsed": true
   },
   "outputs": [],
   "source": [
    "%matplotlib inline\n",
    "import numpy as np\n",
    "import pandas as pd\n",
    "import seaborn as sns\n",
    "sns.set_style('whitegrid')\n",
    "# Jupyter rendering stuff\n",
    "from IPython.display import display, Math, Latex, HTML, clear_output"
   ]
  },
  {
   "cell_type": "code",
   "execution_count": 2,
   "metadata": {
    "collapsed": true
   },
   "outputs": [],
   "source": [
    "import itertools"
   ]
  },
  {
   "cell_type": "markdown",
   "metadata": {},
   "source": [
    "## Input data generation"
   ]
  },
  {
   "cell_type": "code",
   "execution_count": 3,
   "metadata": {
    "collapsed": true
   },
   "outputs": [],
   "source": [
    "def generate_probabilities(*sizes):\n",
    "    result = [np.random.random(size) for size in sizes]\n",
    "    for vec in result:\n",
    "        vec /= np.sum(vec)\n",
    "    return result"
   ]
  },
  {
   "cell_type": "code",
   "execution_count": 4,
   "metadata": {
    "collapsed": true
   },
   "outputs": [],
   "source": [
    "def generate_cross_relation(size1, size2):\n",
    "    return np.random.random(size=(size1, size2)) * 2 - 1"
   ]
  },
  {
   "cell_type": "code",
   "execution_count": 5,
   "metadata": {
    "collapsed": false
   },
   "outputs": [],
   "source": [
    "outer_f_s = (4,2,4,3,1,2,3)\n",
    "outer_f_p = generate_probabilities(*outer_f_s)\n",
    "inner_f_s = (5,4)\n",
    "inner_f_p = generate_probabilities(*inner_f_s)"
   ]
  },
  {
   "cell_type": "code",
   "execution_count": 6,
   "metadata": {
    "collapsed": false
   },
   "outputs": [],
   "source": [
    "outer_cross_rel = {(i, j):generate_cross_relation(s1, s2) for (i,s1), (j,s2) in itertools.combinations(enumerate(outer_f_s), 2)}\n",
    "inner_cross_rel = {(i, j):generate_cross_relation(s1, s2) for (i,s1), (j,s2) in itertools.combinations(enumerate(inner_f_s), 2)}\n",
    "out_in_cross_rel = {(i, j):generate_cross_relation(s1, s2) for (i,s1), (j,s2) in itertools.product(enumerate(outer_f_s), enumerate(inner_f_s))}"
   ]
  },
  {
   "cell_type": "code",
   "execution_count": 7,
   "metadata": {
    "collapsed": true
   },
   "outputs": [],
   "source": [
    "#presenation example\n",
    "# outer_f_s = (3, 4, 2)\n",
    "# outer_f_p = [np.array([0.3, 0.5, 0.2]), np.array([0.4, 0.3, 0.1, 0.2]), np.array([0.3, 0.7])]\n",
    "# outer_cross_rel = {(i, j):np.zeros((s1, s2)) for (i,s1), (j,s2) in itertools.combinations(enumerate(outer_f_s), 2)}\n",
    "# outer_cross_rel[(0,1)][0,0] = 0.5\n",
    "# outer_cross_rel[(0,1)][2,1] = -0.5\n",
    "# outer_cross_rel[(0,2)][0,0] = 0.2\n",
    "# outer_cross_rel[(0,2)][1,0] = 0.3\n",
    "# outer_cross_rel[(1,2)][0,0] = 0.5\n",
    "# outer_cross_rel[(1,2)][2,1] = -1"
   ]
  },
  {
   "cell_type": "markdown",
   "metadata": {},
   "source": [
    "## Calculating table for outer factors"
   ]
  },
  {
   "cell_type": "code",
   "execution_count": 8,
   "metadata": {
    "collapsed": false
   },
   "outputs": [],
   "source": [
    "df_outer = pd.DataFrame(index=pd.MultiIndex.from_product(tuple(range(size) for size in outer_f_s),\n",
    "                                                         names=[str(i + 1) for i in range(len(outer_f_s))]))"
   ]
  },
  {
   "cell_type": "code",
   "execution_count": 9,
   "metadata": {
    "collapsed": false
   },
   "outputs": [],
   "source": [
    "def calculate_correlation(df, cross_rel):\n",
    "    factors = (label for label in df.index.labels)\n",
    "    result = 1\n",
    "    for (f1,a1), (f2, a2) in itertools.combinations(enumerate(factors), 2):\n",
    "        result *= cross_rel[f1, f2][a1, a2] + 1\n",
    "    df['C'] = result"
   ]
  },
  {
   "cell_type": "code",
   "execution_count": 10,
   "metadata": {
    "collapsed": false
   },
   "outputs": [],
   "source": [
    "def calculate_cond_probs(df, factor_p):\n",
    "    factors = (label for label in df.index.labels)\n",
    "    probs = np.array([factor_p[i][factor] for i, factor in enumerate(factors)])\n",
    "    probs = np.prod(probs, axis = 0) / probs\n",
    "    for i in range(len(probs)):\n",
    "        df_outer['P%d_' % (i + 1)] = probs[i] * df['C']"
   ]
  },
  {
   "cell_type": "code",
   "execution_count": 11,
   "metadata": {
    "collapsed": false
   },
   "outputs": [],
   "source": [
    "def normalize_cond_probs(df, factor_s):\n",
    "    sn = [slice(None)] * len(factor_s)\n",
    "    for i in range(len(factor_s)):\n",
    "        sn_cur = sn.copy()\n",
    "        df['P%d' % (i + 1)] = np.zeros(df.shape[0])\n",
    "        for j in range(outer_f_s[i]):\n",
    "            sn_cur[i] = j\n",
    "            df.loc[tuple(sn_cur), 'P%d' % (i + 1)] = \\\n",
    "            df.loc[tuple(sn_cur), 'P%d_' % (i + 1)].as_matrix() / df.loc[tuple(sn_cur), 'P%d_' % (i + 1)].sum()"
   ]
  },
  {
   "cell_type": "code",
   "execution_count": 12,
   "metadata": {
    "collapsed": true
   },
   "outputs": [],
   "source": [
    "def generate_prob_matrices(df, factor_s):\n",
    "    sn = [slice(None)] * len(factor_s)\n",
    "    p_matrices = []\n",
    "    for left in range(len(factor_s)):\n",
    "        right = (left + 1) % len(factor_s)\n",
    "        p = np.zeros((factor_s[left], factor_s[right]))\n",
    "        for i, j in itertools.product(range(factor_s[left]), range(factor_s[right])):\n",
    "            sn_cur = sn.copy()\n",
    "            sn_cur[left], sn_cur[right] = i, j\n",
    "            p[i,j] = df.loc[tuple(sn_cur),'P%d' % (right + 1)].sum()\n",
    "        p_matrices.append(p)\n",
    "    return p_matrices"
   ]
  },
  {
   "cell_type": "code",
   "execution_count": 13,
   "metadata": {
    "collapsed": false
   },
   "outputs": [],
   "source": [
    "def create_matrix_set(df, factor_s, factor_p, cross_rel):\n",
    "    calculate_correlation(df, cross_rel)\n",
    "    calculate_cond_probs(df, factor_p)\n",
    "    normalize_cond_probs(df, factor_s)\n",
    "    return generate_prob_matrices(df, factor_s)"
   ]
  },
  {
   "cell_type": "code",
   "execution_count": 14,
   "metadata": {
    "collapsed": false
   },
   "outputs": [],
   "source": [
    "def generate_cycle_product(matrices):\n",
    "    result = [mat.copy() for mat in matrices]\n",
    "    cycle_iter = itertools.cycle(matrices)\n",
    "    for i in range(len(matrices) - 1):\n",
    "        next(cycle_iter)\n",
    "        for i in range(len(matrices)):\n",
    "            result[i] = result[i] @ next(cycle_iter)\n",
    "    return result"
   ]
  },
  {
   "cell_type": "code",
   "execution_count": 15,
   "metadata": {
    "collapsed": true
   },
   "outputs": [],
   "source": [
    "def find_eigenvec_near_one(matrices, eps=1e-8):\n",
    "    result = []\n",
    "    for matrix in matrices:\n",
    "        vals, vecs = np.linalg.eig(matrix)\n",
    "        mask = np.isclose(vals, 1, atol=eps)\n",
    "        needed_vec = vecs[:, mask].flatten()\n",
    "        needed_vec = np.real_if_close(needed_vec)\n",
    "        result.append(needed_vec / needed_vec.sum())\n",
    "        if (result[-1] < 0).any():\n",
    "            raise RuntimeWarning(\"Probability vector has negative elements.\")\n",
    "    return result"
   ]
  },
  {
   "cell_type": "code",
   "execution_count": 16,
   "metadata": {
    "collapsed": false,
    "scrolled": true
   },
   "outputs": [],
   "source": [
    "outer_matrices = create_matrix_set(df_outer, outer_f_s, outer_f_p, outer_cross_rel)\n",
    "outer_matrices_cycled = generate_cycle_product(outer_matrices)\n",
    "outer_real_probs = find_eigenvec_near_one(outer_matrices_cycled)"
   ]
  },
  {
   "cell_type": "code",
   "execution_count": 17,
   "metadata": {
    "collapsed": false
   },
   "outputs": [
    {
     "data": {
      "text/plain": [
       "[array([ 0.33007763,  0.0867728 ,  0.01690569,  0.56624388]),\n",
       " array([ 0.05419201,  0.94580799]),\n",
       " array([ 0.22393838,  0.14324562,  0.01388094,  0.61893506]),\n",
       " array([ 0.80673027,  0.00394841,  0.18932131]),\n",
       " array([ 1.]),\n",
       " array([ 0.19313308,  0.80686692]),\n",
       " array([ 0.80238419,  0.03073636,  0.16687945])]"
      ]
     },
     "execution_count": 17,
     "metadata": {},
     "output_type": "execute_result"
    }
   ],
   "source": [
    "outer_real_probs"
   ]
  },
  {
   "cell_type": "code",
   "execution_count": null,
   "metadata": {
    "collapsed": true
   },
   "outputs": [],
   "source": []
  }
 ],
 "metadata": {
  "kernelspec": {
   "display_name": "Python 3",
   "language": "python",
   "name": "python3"
  },
  "language_info": {
   "codemirror_mode": {
    "name": "ipython",
    "version": 3
   },
   "file_extension": ".py",
   "mimetype": "text/x-python",
   "name": "python",
   "nbconvert_exporter": "python",
   "pygments_lexer": "ipython3",
   "version": "3.5.2"
  }
 },
 "nbformat": 4,
 "nbformat_minor": 1
}
