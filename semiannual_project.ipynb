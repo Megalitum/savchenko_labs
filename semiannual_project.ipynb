{
 "cells": [
  {
   "cell_type": "markdown",
   "metadata": {},
   "source": [
    "# Морфологічний аналіз"
   ]
  },
  {
   "cell_type": "code",
   "execution_count": 1,
   "metadata": {
    "collapsed": true
   },
   "outputs": [],
   "source": [
    "%matplotlib inline\n",
    "import numpy as np\n",
    "import pandas as pd\n",
    "import seaborn as sns\n",
    "sns.set_style('whitegrid')\n",
    "# Jupyter rendering stuff\n",
    "from IPython.display import display, Math, Latex, HTML, clear_output"
   ]
  },
  {
   "cell_type": "code",
   "execution_count": 2,
   "metadata": {
    "collapsed": true
   },
   "outputs": [],
   "source": [
    "import itertools"
   ]
  },
  {
   "cell_type": "markdown",
   "metadata": {},
   "source": [
    "## Input data generation"
   ]
  },
  {
   "cell_type": "code",
   "execution_count": 3,
   "metadata": {
    "collapsed": true
   },
   "outputs": [],
   "source": [
    "def generate_probabilities(*sizes):\n",
    "    result = [np.random.random(size) for size in sizes]\n",
    "    for vec in result:\n",
    "        vec /= np.sum(vec)\n",
    "    return result"
   ]
  },
  {
   "cell_type": "code",
   "execution_count": 4,
   "metadata": {
    "collapsed": true
   },
   "outputs": [],
   "source": [
    "def generate_cross_relation(size1, size2):\n",
    "    return np.random.random(size=(size1, size2)) * 2 - 1"
   ]
  },
  {
   "cell_type": "code",
   "execution_count": 5,
   "metadata": {
    "collapsed": false
   },
   "outputs": [],
   "source": [
    "outer_f_s = (4,2,4,3,1,2,3)\n",
    "outer_f_p = generate_probabilities(*outer_f_s)\n",
    "inner_f_s = (5,4)\n",
    "inner_f_p = generate_probabilities(*inner_f_s)"
   ]
  },
  {
   "cell_type": "code",
   "execution_count": 6,
   "metadata": {
    "collapsed": false
   },
   "outputs": [],
   "source": [
    "outer_cross_rel = {(i, j):generate_cross_relation(s1, s2) for (i,s1), (j,s2) in itertools.combinations(enumerate(outer_f_s), 2)}\n",
    "inner_cross_rel = {(i, j):generate_cross_relation(s1, s2) for (i,s1), (j,s2) in itertools.combinations(enumerate(inner_f_s), 2)}\n",
    "out_in_cross_rel = {(i, j):generate_cross_relation(s1, s2) for (i,s1), (j,s2) in itertools.product(enumerate(outer_f_s), enumerate(inner_f_s))}"
   ]
  },
  {
   "cell_type": "code",
   "execution_count": 7,
   "metadata": {
    "collapsed": true
   },
   "outputs": [],
   "source": [
    "#presenation example\n",
    "# outer_f_s = (3, 4, 2)\n",
    "# outer_f_p = [np.array([0.3, 0.5, 0.2]), np.array([0.4, 0.3, 0.1, 0.2]), np.array([0.3, 0.7])]\n",
    "# outer_cross_rel = {(i, j):np.zeros((s1, s2)) for (i,s1), (j,s2) in itertools.combinations(enumerate(outer_f_s), 2)}\n",
    "# outer_cross_rel[(0,1)][0,0] = 0.5\n",
    "# outer_cross_rel[(0,1)][2,1] = -0.5\n",
    "# outer_cross_rel[(0,2)][0,0] = 0.2\n",
    "# outer_cross_rel[(0,2)][1,0] = 0.3\n",
    "# outer_cross_rel[(1,2)][0,0] = 0.5\n",
    "# outer_cross_rel[(1,2)][2,1] = -1"
   ]
  },
  {
   "cell_type": "markdown",
   "metadata": {},
   "source": [
    "## Calculating table for outer factors"
   ]
  },
  {
   "cell_type": "code",
   "execution_count": 8,
   "metadata": {
    "collapsed": false
   },
   "outputs": [],
   "source": [
    "df_outer = pd.DataFrame(index=pd.MultiIndex.from_product(tuple(range(size) for size in outer_f_s),\n",
    "                                                         names=[str(i + 1) for i in range(len(outer_f_s))]))"
   ]
  },
  {
   "cell_type": "code",
   "execution_count": 9,
   "metadata": {
    "collapsed": false
   },
   "outputs": [],
   "source": [
    "def calculate_correlation(df, cross_rel):\n",
    "    factors = (label for label in df.index.labels)\n",
    "    result = 1\n",
    "    for (f1,a1), (f2, a2) in itertools.combinations(enumerate(factors), 2):\n",
    "        result *= cross_rel[f1, f2][a1, a2] + 1\n",
    "    df['C'] = result"
   ]
  },
  {
   "cell_type": "code",
   "execution_count": 10,
   "metadata": {
    "collapsed": false
   },
   "outputs": [],
   "source": [
    "def calculate_cond_probs(df, factor_p):\n",
    "    factors = (label for label in df.index.labels)\n",
    "    probs = np.array([factor_p[i][factor] for i, factor in enumerate(factors)])\n",
    "    probs = np.prod(probs, axis = 0) / probs\n",
    "    for i in range(len(probs)):\n",
    "        df_outer['P%d_' % (i + 1)] = probs[i] * df['C']"
   ]
  },
  {
   "cell_type": "code",
   "execution_count": 11,
   "metadata": {
    "collapsed": false
   },
   "outputs": [],
   "source": [
    "def normalize_cond_probs(df, factor_s):\n",
    "    sn = [slice(None)] * len(factor_s)\n",
    "    for i in range(len(factor_s)):\n",
    "        sn_cur = sn.copy()\n",
    "        df['P%d' % (i + 1)] = np.zeros(df.shape[0])\n",
    "        for j in range(outer_f_s[i]):\n",
    "            sn_cur[i] = j\n",
    "            df['P%d' % (i + 1)].loc[tuple(sn_cur)] = \\\n",
    "            df['P%d_' % (i + 1)].loc[tuple(sn_cur)].as_matrix() / df['P%d_' % (i + 1)].loc[tuple(sn_cur)].sum()"
   ]
  },
  {
   "cell_type": "code",
   "execution_count": 12,
   "metadata": {
    "collapsed": true
   },
   "outputs": [],
   "source": [
    "def generate_prob_matrices(df, factor_s):\n",
    "    sn = [slice(None)] * len(factor_s)\n",
    "    p_matrices = []\n",
    "    for left in range(len(factor_s)):\n",
    "        right = (left + 1) % len(factor_s)\n",
    "        p = np.zeros((factor_s[left], factor_s[right]))\n",
    "        for i, j in itertools.product(range(factor_s[left]), range(factor_s[right])):\n",
    "            sn_cur = sn.copy()\n",
    "            sn_cur[left], sn_cur[right] = i, j\n",
    "            p[i,j] = df.loc[tuple(sn_cur),:]['P%d' % (right + 1)].sum()\n",
    "        p_matrices.append(p)\n",
    "    return p_matrices"
   ]
  },
  {
   "cell_type": "code",
   "execution_count": 13,
   "metadata": {
    "collapsed": false
   },
   "outputs": [],
   "source": [
    "def create_matrix_set(df, factor_s, factor_p, cross_rel):\n",
    "    calculate_correlation(df, cross_rel)\n",
    "    calculate_cond_probs(df, factor_p)\n",
    "    normalize_cond_probs(df, factor_s)\n",
    "    return generate_prob_matrices(df, factor_s)"
   ]
  },
  {
   "cell_type": "code",
   "execution_count": 14,
   "metadata": {
    "collapsed": false
   },
   "outputs": [],
   "source": [
    "def generate_cycle_product(matrices):\n",
    "    result = [mat.copy() for mat in matrices]\n",
    "    cycle_iter = itertools.cycle(matrices)\n",
    "    for i in range(len(matrices) - 1):\n",
    "        next(cycle_iter)\n",
    "        for i in range(len(matrices)):\n",
    "            result[i] = result[i] @ next(cycle_iter)\n",
    "    return result"
   ]
  },
  {
   "cell_type": "code",
   "execution_count": 15,
   "metadata": {
    "collapsed": true
   },
   "outputs": [],
   "source": [
    "def find_eigenvec_near_one(matrices):\n",
    "    return []"
   ]
  },
  {
   "cell_type": "code",
   "execution_count": 16,
   "metadata": {
    "collapsed": false,
    "scrolled": true
   },
   "outputs": [],
   "source": [
    "outer_matrices = create_matrix_set(df_outer, outer_f_s, outer_f_p, outer_cross_rel)\n",
    "outer_matrices_cycled = generate_cycle_product(outer_matrices)\n",
    "outer_real_probs = find_eigenvec_near_one(outer_matrices_cycled)"
   ]
  },
  {
   "cell_type": "code",
   "execution_count": 17,
   "metadata": {
    "collapsed": false
   },
   "outputs": [
    {
     "data": {
      "text/plain": [
       "[(array([  1.11022302e-16,   1.00000000e+00,  -4.91283771e-17,\n",
       "           4.10976243e-17]),\n",
       "  array([[-0.8351615 , -0.06487572,  0.01313498,  0.00387257],\n",
       "         [ 0.15086533, -0.27372036,  0.44447465,  0.48472132],\n",
       "         [ 0.49316845, -0.89477315,  0.36177391, -0.81248188],\n",
       "         [ 0.19112771, -0.34676984, -0.81938354,  0.32388799]])),\n",
       " (array([  1.00000000e+00,  -1.38777878e-17]),\n",
       "  array([[ 0.99622879, -0.70710678],\n",
       "         [ 0.08676523,  0.70710678]])),\n",
       " (array([  1.00000000e+00,   2.77555756e-17,   1.21824897e-17,\n",
       "          -3.58542388e-18]),\n",
       "  array([[ 0.98952467, -0.82064189, -0.454816  , -0.47344045],\n",
       "         [ 0.05615796,  0.22229289, -0.42220971,  0.57272484],\n",
       "         [ 0.01962366,  0.07767732,  0.09917944, -0.52023315],\n",
       "         [ 0.13153754,  0.52067168,  0.77784626,  0.42094876]])),\n",
       " (array([  1.00000000e+00,  -1.09323606e-16,   1.58875511e-17]),\n",
       "  array([[-0.10455724, -0.09507559, -0.61994387],\n",
       "         [-0.83608982,  0.74983437, -0.15019347],\n",
       "         [-0.53853653, -0.65475877,  0.77013734]])),\n",
       " (array([ 1.]), array([[ 1.]])),\n",
       " (array([ 0.,  1.]), array([[-0.70710678, -0.14988297],\n",
       "         [ 0.70710678, -0.98870375]])),\n",
       " (array([  1.00000000e+00,  -3.50448398e-18,   2.52812735e-18]),\n",
       "  array([[-0.01903705,  0.53496803,  0.80780165],\n",
       "         [-0.99977787, -0.8016721 , -0.50682007],\n",
       "         [-0.00904437,  0.26670407, -0.30098158]]))]"
      ]
     },
     "execution_count": 17,
     "metadata": {},
     "output_type": "execute_result"
    }
   ],
   "source": [
    "[np.linalg.eig(outer_matrix) for outer_matrix in outer_matrices_cycled]"
   ]
  },
  {
   "cell_type": "code",
   "execution_count": null,
   "metadata": {
    "collapsed": true
   },
   "outputs": [],
   "source": []
  }
 ],
 "metadata": {
  "kernelspec": {
   "display_name": "Python 3",
   "language": "python",
   "name": "python3"
  },
  "language_info": {
   "codemirror_mode": {
    "name": "ipython",
    "version": 3
   },
   "file_extension": ".py",
   "mimetype": "text/x-python",
   "name": "python",
   "nbconvert_exporter": "python",
   "pygments_lexer": "ipython3",
   "version": "3.5.2"
  }
 },
 "nbformat": 4,
 "nbformat_minor": 1
}
