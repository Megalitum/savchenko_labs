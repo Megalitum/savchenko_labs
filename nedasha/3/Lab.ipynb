{
 "cells": [
  {
   "cell_type": "markdown",
   "metadata": {
    "deletable": true,
    "editable": true
   },
   "source": [
    "# Лабораторна робота №3\n",
    "## Варіант №3\n",
    "Мета роботи:\n",
    "* Дослідити методи розрахунку ваг альтернатив за критерієм на основі нечітких експертних оцінок парних порівнянь на основі методу нижньої і верхньої апроксимацій LUAM"
   ]
  },
  {
   "cell_type": "code",
   "execution_count": 1,
   "metadata": {
    "collapsed": false,
    "deletable": true,
    "editable": true
   },
   "outputs": [
    {
     "name": "stdout",
     "output_type": "stream",
     "text": [
      "Populating the interactive namespace from numpy and matplotlib\n"
     ]
    }
   ],
   "source": [
    "%pylab inline\n",
    "import pandas as pd\n",
    "import itertools\n",
    "import scipy\n",
    "import scipy.optimize\n",
    "from IPython.display import Latex\n",
    "from IPython.core.display import display, HTML"
   ]
  },
  {
   "cell_type": "markdown",
   "metadata": {
    "deletable": true,
    "editable": true
   },
   "source": [
    "## Нижня модель LUAM\n",
    "<img src=\"./lower_model.png\"/>\n",
    "## Верхня модель LUAM\n",
    "<img src=\"./upper_model.png\"/>"
   ]
  },
  {
   "cell_type": "code",
   "execution_count": 13,
   "metadata": {
    "collapsed": false,
    "deletable": true,
    "editable": true,
    "scrolled": true
   },
   "outputs": [],
   "source": [
    "A = np.array([\n",
    "    [[1, 1], [3, 4], [6, 6], [6, 7]],\n",
    "    [[1/4, 1/3], [1, 1], [3, 4], [3, 4]],\n",
    "    [[1/6, 1/6], [1/4, 1/3], [1, 1], [3, 4]],\n",
    "    [[1/7,1/6], [1/4, 1/3], [1/4, 1/3], [1, 1]]\n",
    "])\n",
    "A = np.array([\n",
    "    [[1, 1], [1, 3], [3, 5], [5, 7], [5, 9]],\n",
    "    [[1/3, 1], [1, 1], [1, 4], [1, 5], [1, 4]],\n",
    "    [[1/5, 1/3], [1/4, 1], [1, 1], [1/5, 5], [2, 4]],\n",
    "    [[1/7, 1/5], [1/5, 1], [1/5, 5], [1, 1], [1, 2]],\n",
    "    [[1/9, 1/5], [1/4, 1], [1/4, 1/2], [1/2, 1], [1, 1]]\n",
    "])\n",
    "AL = A[:, :, 0]\n",
    "AU = A[:, :, 1]\n",
    "\n",
    "def fill_lower(r, a, k, i, j):\n",
    "    r[k, j + a.shape[1]] = a[i, j]\n",
    "    r[k, i] = -1\n",
    "\n",
    "def fill_upper(r, a, k, i, j):\n",
    "    r[k,  i + a.shape[0]] = 1\n",
    "    r[k,  j] = -a[i, j]\n",
    "        \n",
    "def create_matrix(a, f):\n",
    "    \" w_1^L, ... w_n^L, w_1^U, ..., w_n^[l]\"\n",
    "    n, _ =  a.shape\n",
    "    r = np.zeros((n * n, 2 * n))\n",
    "    for k, p in enumerate(itertools.product(range(n), range(n))):\n",
    "        if (p[0] != p[1]):\n",
    "            f(r, a, k, p[0], p[1])\n",
    "    return r\n",
    "\n",
    "def third_lower(n):\n",
    "    r = np.zeros((n, 2 * n))\n",
    "    for i in range(n):\n",
    "        r[i, i] = -1\n",
    "        for j in range(n):\n",
    "            if i != j:\n",
    "                r[i, j + n] = -1\n",
    "    return r\n",
    "\n",
    "def fourth_lower(n):\n",
    "    r = np.zeros((n, 2 * n))\n",
    "    for i in range(n):\n",
    "        r[i, i + n] = 1\n",
    "        for j in range(n):\n",
    "            if i != j:\n",
    "                r[i, j] = 1\n",
    "    return r\n",
    "\n",
    "def fiveth_lower(n):\n",
    "    r = np.zeros((n, 2 * n))\n",
    "    for i in range(n):\n",
    "        r[i, i] = 1\n",
    "        r[i, i + n] = -1\n",
    "    return r\n",
    "        \n",
    "def solve(l, u, sz=1):\n",
    "    m, n = l.shape\n",
    "    s = 2 * n * n\n",
    "    assert(m == n)\n",
    "    assert(l.shape == u.shape)\n",
    "    a1 = sz * create_matrix(l, fill_lower)\n",
    "    a2 = sz * create_matrix(u, fill_upper)\n",
    "    a3 = third_lower(n)\n",
    "    a4 = fourth_lower(n)\n",
    "    a5 = fiveth_lower(n)\n",
    "    a_components = [a1, a2, a3, a4, a5]\n",
    "    a = np.concatenate(a_components)\n",
    "    b = np.zeros(s + 3 * n)\n",
    "    b[s:s + n] = -1\n",
    "    b[s + n: s + 2 * n] = 1\n",
    "    c = np.zeros(n + n)\n",
    "    c[0:n] = sz\n",
    "    c[n:] = -sz\n",
    "    data = [c, a, b]\n",
    "    result = scipy.optimize.linprog(\n",
    "        *data,\n",
    "        options=dict(disp=True),\n",
    "        bounds=[(0.0001, np.inf) for i in range(n + n)]\n",
    "    )\n",
    "    return data, result\n",
    "\n",
    "def get_ranges(solution):\n",
    "    x = solution.x\n",
    "    n = len(solution.x) // 2\n",
    "    return list(zip(x[0:n], x[n:]))"
   ]
  },
  {
   "cell_type": "code",
   "execution_count": 8,
   "metadata": {
    "collapsed": false,
    "deletable": true,
    "editable": true
   },
   "outputs": [],
   "source": [
    "def prepare_report(_, solution, n):\n",
    "    ranges = get_ranges(solution)\n",
    "    sorted_ranges = sorted(enumerate(ranges), key=lambda x: -(sum(x[1])))\n",
    "    pattern = \"$[w%d^{L}_{%d}, w%d^{U}_{%d}] = [%f, %f]$\"\n",
    "    sorted_ranges_latex = [pattern % (n, i + 1, n, i + 1, rng[0], rng[1]) for i, rng in sorted_ranges]\n",
    "    J = \"$J^{*} = %f$\" % np.abs(solution.fun)\n",
    "    weights = '<br/>'.join(sorted_ranges_latex)\n",
    "    ordering = \"%s\" % (\"$\\succeq$\".join([str(i + 1) for i, _ in sorted_ranges]))\n",
    "    return \"\"\"\n",
    "        %s<br/>\n",
    "        %s<br/>\n",
    "        %s<br/>\n",
    "    \"\"\" % (J, weights, ordering)\n",
    "\n",
    "def fuzzy_advantage(a_low, a_mid, a_up):\n",
    "    a = np.stack((a_low, a_mid, a_up))\n",
    "    rsi = a.sum(axis=2)\n",
    "    si = rsi / rsi.sum(axis=1)[::-1, None]\n",
    "    mm = np.meshgrid(si[1], si[1]) # mm[1] ~ m_i, mm[0] ~ m_j \n",
    "    lu = np.meshgrid(si[0], si[2]) # lu[1] ~ u_i, lu[0] ~ l_j\n",
    "    vss = np.zeros_like(a_low)\n",
    "    vss[mm[1] >= mm[0]] = 1\n",
    "    mask_mixed = (mm[1] < mm[0]) * (lu[1] >= lu[0])\n",
    "    vals_mixed = (lu[1] - lu[0]) / (lu[1] - mm[1] + mm[0] - lu[0])\n",
    "    vss[mask_mixed] = vals_mixed[mask_mixed]\n",
    "    print('Matrix S(l,m,u):\\n', si.T)\n",
    "    print('Matrix VS:\\n',vss)\n",
    "    weights = np.amin(vss, axis=1)\n",
    "    # calculated weights\n",
    "    return weights / np.linalg.norm(weights, 1)"
   ]
  },
  {
   "cell_type": "code",
   "execution_count": 9,
   "metadata": {
    "collapsed": false,
    "deletable": true,
    "editable": true
   },
   "outputs": [
    {
     "name": "stdout",
     "output_type": "stream",
     "text": [
      "Optimization terminated successfully.\n",
      "         Current function value: -0.223535   \n",
      "         Iterations: 45\n",
      "Optimization terminated successfully.\n",
      "         Current function value: 0.618182    \n",
      "         Iterations: 23\n"
     ]
    }
   ],
   "source": [
    "solution1 = solve(AL, AU, sz=1)\n",
    "r1 = prepare_report(*solution1, 1)\n",
    "solution2 = solve(AL, AU, sz=-1)\n",
    "r2 = prepare_report(*solution2, 2)"
   ]
  },
  {
   "cell_type": "markdown",
   "metadata": {
    "deletable": true,
    "editable": true
   },
   "source": [
    "# Розв'язок нижньої моделі"
   ]
  },
  {
   "cell_type": "code",
   "execution_count": 11,
   "metadata": {
    "collapsed": false,
    "deletable": true,
    "editable": true
   },
   "outputs": [
    {
     "data": {
      "text/html": [
       "\n",
       "        $J^{*} = 0.223535$<br/>\n",
       "        $[w1^{L}_{1}, w1^{U}_{1}] = [0.422535, 0.534303]$<br/>$[w1^{L}_{2}, w1^{U}_{2}] = [0.178101, 0.281690]$<br/>$[w1^{L}_{3}, w1^{U}_{3}] = [0.140845, 0.140845]$<br/>$[w1^{L}_{4}, w1^{U}_{4}] = [0.076329, 0.084507]$<br/>$[w1^{L}_{5}, w1^{U}_{5}] = [0.070423, 0.070423]$<br/>\n",
       "        1$\\succeq$2$\\succeq$3$\\succeq$4$\\succeq$5<br/>\n",
       "    "
      ],
      "text/plain": [
       "<IPython.core.display.HTML object>"
      ]
     },
     "execution_count": 11,
     "metadata": {},
     "output_type": "execute_result"
    }
   ],
   "source": [
    "HTML(r1)"
   ]
  },
  {
   "cell_type": "markdown",
   "metadata": {
    "deletable": true,
    "editable": true
   },
   "source": [
    "# Розв'язок верхньої моделі"
   ]
  },
  {
   "cell_type": "code",
   "execution_count": 12,
   "metadata": {
    "collapsed": false,
    "deletable": true,
    "editable": true
   },
   "outputs": [
    {
     "data": {
      "text/html": [
       "\n",
       "        $J^{*} = 0.618182$<br/>\n",
       "        $[w2^{L}_{1}, w2^{U}_{1}] = [0.290909, 0.409091]$<br/>$[w2^{L}_{2}, w2^{U}_{2}] = [0.136364, 0.290909]$<br/>$[w2^{L}_{3}, w2^{U}_{3}] = [0.027273, 0.181818]$<br/>$[w2^{L}_{5}, w2^{U}_{5}] = [0.045455, 0.136364]$<br/>$[w2^{L}_{4}, w2^{U}_{4}] = [0.036364, 0.136364]$<br/>\n",
       "        1$\\succeq$2$\\succeq$3$\\succeq$5$\\succeq$4<br/>\n",
       "    "
      ],
      "text/plain": [
       "<IPython.core.display.HTML object>"
      ]
     },
     "execution_count": 12,
     "metadata": {},
     "output_type": "execute_result"
    }
   ],
   "source": [
    "HTML(r2)"
   ]
  },
  {
   "cell_type": "code",
   "execution_count": 22,
   "metadata": {
    "collapsed": false,
    "deletable": true,
    "editable": true
   },
   "outputs": [
    {
     "name": "stdout",
     "output_type": "stream",
     "text": [
      "Matrix S(l,m,u):\n",
      " [[ 0.23352361  0.43539484  0.90457456]\n",
      " [ 0.06746238  0.21044084  0.54274474]\n",
      " [ 0.05682408  0.16309165  0.4100738 ]\n",
      " [ 0.03958781  0.12781948  0.33288344]\n",
      " [ 0.03286629  0.06325319  0.13387704]]\n",
      "Matrix VS:\n",
      " [[ 1.          1.          1.          1.          1.        ]\n",
      " [ 0.57887594  1.          1.          1.          1.        ]\n",
      " [ 0.393336    0.87857956  1.          1.          1.        ]\n",
      " [ 0.24416623  0.76261125  0.88670545  1.          1.        ]\n",
      " [ 0.          0.3109267   0.43559467  0.59355336  1.        ]]\n"
     ]
    },
    {
     "data": {
      "text/plain": [
       "array([ 0.45118654,  0.26118103,  0.17746791,  0.11016452,  0.        ])"
      ]
     },
     "execution_count": 22,
     "metadata": {},
     "output_type": "execute_result"
    }
   ],
   "source": [
    "fuzzy_advantage(AL, (AL + AU) / 2, AU)"
   ]
  }
 ],
 "metadata": {
  "kernelspec": {
   "display_name": "Python 3",
   "language": "python",
   "name": "python3"
  },
  "language_info": {
   "codemirror_mode": {
    "name": "ipython",
    "version": 3
   },
   "file_extension": ".py",
   "mimetype": "text/x-python",
   "name": "python",
   "nbconvert_exporter": "python",
   "pygments_lexer": "ipython3",
   "version": "3.5.3"
  }
 },
 "nbformat": 4,
 "nbformat_minor": 2
}
