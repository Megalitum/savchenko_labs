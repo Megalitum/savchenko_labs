{
 "cells": [
  {
   "cell_type": "markdown",
   "metadata": {},
   "source": [
    "# Лабораторна робота №1"
   ]
  },
  {
   "cell_type": "markdown",
   "metadata": {},
   "source": [
    "## Завдання"
   ]
  },
  {
   "cell_type": "markdown",
   "metadata": {},
   "source": [
    "Розв'язати задачу знаходження ваг із МПП і зробити висновки щодо альтернатив. Визначити узгодженість МПП за відповідним коефіцієнтом, порівняти його з порогами і зробити висновок про узгодженість матриці. Порівняти результати, отримані різними методами."
   ]
  },
  {
   "cell_type": "markdown",
   "metadata": {},
   "source": [
    "Методи обчислення ваг:\n",
    "- AN\n",
    "- RGMM"
   ]
  },
  {
   "cell_type": "markdown",
   "metadata": {},
   "source": [
    "Показники узгодженості:\n",
    "- HCR(розрахувати HRCI)\n",
    "- GCI"
   ]
  },
  {
   "cell_type": "markdown",
   "metadata": {},
   "source": [
    "Розглядається задача №2:\n",
    "> Нехай задача полягає в оцінюванні наступних чотирьох варіантів вкладення коштів: придбання акцій, оформлення депозиту, придбання облігацій, придбання дорогоцінних металів за критерієм «надійність вкладення коштів». За результатами парних порівнянь цих варіантів встановлено, що другий варіант ненабагато кращий за перший і третій варіанти і суттєво кращий за четвертий, перший варіант має однакову надійність, що і третій, і ненабагато кращий за четвертий варіант, перевага третього варіанту над четвертим – між слабкою і суттєвою."
   ]
  },
  {
   "cell_type": "markdown",
   "metadata": {},
   "source": [
    "## Виконання роботи"
   ]
  },
  {
   "cell_type": "markdown",
   "metadata": {},
   "source": [
    "### Імпорт бібліотек"
   ]
  },
  {
   "cell_type": "code",
   "execution_count": 1,
   "metadata": {
    "collapsed": false,
    "scrolled": true
   },
   "outputs": [
    {
     "name": "stdout",
     "output_type": "stream",
     "text": [
      "Populating the interactive namespace from numpy and matplotlib\n"
     ]
    }
   ],
   "source": [
    "%pylab inline\n",
    "import seaborn as sns\n",
    "import scipy as sp"
   ]
  },
  {
   "cell_type": "code",
   "execution_count": 2,
   "metadata": {
    "collapsed": false
   },
   "outputs": [],
   "source": [
    "from ipy_table import make_table as html_matrix"
   ]
  },
  {
   "cell_type": "markdown",
   "metadata": {},
   "source": [
    "### Генерація таблиці"
   ]
  },
  {
   "cell_type": "markdown",
   "metadata": {},
   "source": [
    "#### Генератори випадкових мультиплікативних/адитивних матриць попарних порівнянь заданого розміру"
   ]
  },
  {
   "cell_type": "code",
   "execution_count": 3,
   "metadata": {
    "collapsed": true
   },
   "outputs": [],
   "source": [
    "def rand_mult_pw_val(size):\n",
    "    res = triu(random.randint(-9, 10, (size, size)), 1).astype(float64)\n",
    "    res[res < 0] = 1 / abs(res[res < 0])\n",
    "    res += tril(1 / res.T, -1) + identity(size)\n",
    "    return res\n",
    "\n",
    "def rand_add_pw_val(size):\n",
    "    res = triu(random.randint(-9, 10, (size, size)), 1).astype(float64)\n",
    "    res -= res.T\n",
    "    return res"
   ]
  },
  {
   "cell_type": "markdown",
   "metadata": {},
   "source": [
    "#### Фіксація матриці з умови задачі"
   ]
  },
  {
   "cell_type": "code",
   "execution_count": 4,
   "metadata": {
    "collapsed": false
   },
   "outputs": [
    {
     "name": "stdout",
     "output_type": "stream",
     "text": [
      "Задана матриця:\n"
     ]
    },
    {
     "data": {
      "text/html": [
       "<table border=\"1\" cellpadding=\"3\" cellspacing=\"0\"  style=\"border:1px solid black;border-collapse:collapse;\"><tr><td>1.0</td><td>0.333333333333</td><td>1.0</td><td>3.0</td></tr><tr><td>3.0</td><td>1.0</td><td>3.0</td><td>5.0</td></tr><tr><td>1.0</td><td>0.333333333333</td><td>1.0</td><td>4.0</td></tr><tr><td>0.333333333333</td><td>0.2</td><td>0.25</td><td>1.0</td></tr></table>"
      ],
      "text/plain": [
       "<ipy_table.IpyTable at 0x10a4067b8>"
      ]
     },
     "execution_count": 4,
     "metadata": {},
     "output_type": "execute_result"
    }
   ],
   "source": [
    "given_matrix = array([\n",
    "        [  1, 1/3,   1, 3],\n",
    "        [  3,   1,   3, 5],\n",
    "        [  1, 1/3,   1, 4],\n",
    "        [1/3, 1/5, 1/4, 1]\n",
    "    ])\n",
    "print('Задана матриця:')\n",
    "html_matrix(given_matrix)"
   ]
  },
  {
   "cell_type": "markdown",
   "metadata": {},
   "source": [
    "### Обчислення ваг"
   ]
  },
  {
   "cell_type": "markdown",
   "metadata": {},
   "source": [
    "#### 1. AN (additive normalization)"
   ]
  },
  {
   "cell_type": "markdown",
   "metadata": {},
   "source": [
    "Нехай $s_j = \\sum\\limits_{i=1}^n d_{ij}$ – сума j-го стовпчика заданої експертами МПП.\n",
    "\n",
    "Тоді вагами є величини $(s_1^{-1}, \\dots , s_n^{-1})$ обернені до сум стовпчиків заданої матриці."
   ]
  },
  {
   "cell_type": "code",
   "execution_count": 5,
   "metadata": {
    "collapsed": false
   },
   "outputs": [
    {
     "name": "stdout",
     "output_type": "stream",
     "text": [
      "Ваги, розраховані з методу AN:\n",
      "[ 0.1875      0.53571429  0.19047619  0.07692308]\n"
     ]
    }
   ],
   "source": [
    "s = given_matrix.sum(axis=0)\n",
    "weights_an = 1/s\n",
    "print('Ваги, розраховані з методу AN:')\n",
    "print(weights_an)"
   ]
  },
  {
   "cell_type": "markdown",
   "metadata": {},
   "source": [
    "#### 2. RGMM (row geometic mean method)"
   ]
  },
  {
   "cell_type": "markdown",
   "metadata": {},
   "source": [
    "Під час розрахунку ваг методом RGMM використовується наступна формула:\n",
    "$$\n",
    "v_i = \\sqrt[n]{\\prod\\limits_{j=1}^{n} d_{ij}}\n",
    "$$\n",
    "Тоді нормовані до 1 ваги альтернатив розраховуються\n",
    "$$\n",
    "w_i = \\sqrt[n]{\\prod\\limits_{j=1}^{n} d_{ij}} \\; \\big/ \\; \\sum\\limits_{i=1}^n \\sqrt[n]{\\prod\\limits_{j=1}^{n} d_{ij}}\n",
    "$$"
   ]
  },
  {
   "cell_type": "code",
   "execution_count": 6,
   "metadata": {
    "collapsed": false
   },
   "outputs": [
    {
     "name": "stdout",
     "output_type": "stream",
     "text": [
      "Ненормовані ваги, розраховані методом RGMM\n",
      "[ 1.          2.59002006  1.07456993  0.35930411] \n",
      "\n",
      "Нормовані ваги, розраховані методом RGMM\n",
      "[ 0.19904878  0.51554034  0.21389184  0.07151905]\n"
     ]
    }
   ],
   "source": [
    "v_i = sp.stats.gmean(given_matrix, axis=1)\n",
    "print('Ненормовані ваги, розраховані методом RGMM')\n",
    "print(v_i, '\\n')\n",
    "weights_rgmm = v_i / sum(v_i)\n",
    "print('Нормовані ваги, розраховані методом RGMM')\n",
    "print(weights_rgmm)"
   ]
  },
  {
   "cell_type": "markdown",
   "metadata": {},
   "source": [
    "### Оцінка узгодженості"
   ]
  },
  {
   "cell_type": "markdown",
   "metadata": {},
   "source": [
    "#### 1. HCR (з розрахунком HRCI)"
   ]
  },
  {
   "cell_type": "markdown",
   "metadata": {},
   "source": [
    "Показник HCR як правило застосовується для перевірки коректності застосування методу [AN][1].\n",
    "[1]: #1.-AN-(additive-normalization)"
   ]
  },
  {
   "cell_type": "markdown",
   "metadata": {},
   "source": [
    "Гармонічним індексом узгодженості (harmonic consistency index, HCI) називається\n",
    "$$\n",
    "HCI(n) = \\frac{(HM(s)-n)(n+1)}{n(n-1)}\n",
    "$$\n",
    "де $HM(s)=n \\left(\\sum\\limits_{j=1}^n s_j^{-1} \\right)^{-1}$ – гармонічне середнє для сум по стовпчикам вихідної матриці."
   ]
  },
  {
   "cell_type": "markdown",
   "metadata": {},
   "source": [
    "Гармнонічним відношенням узгодженості (harmonic consistency relation) називається\n",
    "$$\n",
    "HCR(n) = \\frac{HCI(n)}{HRCI(n)}\n",
    "$$\n",
    "де $HRCI(n)$ – середнє значення $HCI(n)$ для випадкових МПП."
   ]
  },
  {
   "cell_type": "markdown",
   "metadata": {},
   "source": [
    "<table>\n",
    "<tr>\n",
    "<th colspan=\"3\">Порогове значення HCR</th>\n",
    "</tr>\n",
    "<tr>\n",
    "<th>$n=3$</th><th>$n=4$</th><th>$n\\geq5$</th>\n",
    "</tr>\n",
    "<tr>\n",
    "<td>0.05</td><td>0.08</td><td>0.1</td>\n",
    "</tr>\n",
    "</table>"
   ]
  },
  {
   "cell_type": "code",
   "execution_count": 5,
   "metadata": {
    "collapsed": true
   },
   "outputs": [],
   "source": [
    "def calculate_hci(mat):\n",
    "    s_j = mat.sum(axis=0)\n",
    "    hm = sp.stats.hmean(s_j)\n",
    "    n = len(s_j)\n",
    "    return (hm - n) * (n + 1) / n / (n - 1)"
   ]
  },
  {
   "cell_type": "code",
   "execution_count": 6,
   "metadata": {
    "collapsed": false
   },
   "outputs": [
    {
     "name": "stdout",
     "output_type": "stream",
     "text": [
      "Розрахований HRCI(4): 0.956236245021\n"
     ]
    }
   ],
   "source": [
    "size = 4\n",
    "count = 1000000\n",
    "hrci = mean(list(calculate_hci(rand_mult_pw_val(size)) for i in range(count)))\n",
    "print(\"Розрахований HRCI(4):\", hrci)"
   ]
  },
  {
   "cell_type": "code",
   "execution_count": 9,
   "metadata": {
    "collapsed": false
   },
   "outputs": [
    {
     "name": "stdout",
     "output_type": "stream",
     "text": [
      "Узгодженість вихідної матриці за методом HCR: 0.0165404801513\n"
     ]
    }
   ],
   "source": [
    "hcr = calculate_hci(given_matrix) / hrci\n",
    "print(\"Узгодженість вихідної матриці за методом HCR:\", hcr)"
   ]
  },
  {
   "cell_type": "markdown",
   "metadata": {},
   "source": [
    "Оскільки 0.0165404801513 < 0.08, то можна вважати вихідну матрицю консистентною за показником HCR."
   ]
  },
  {
   "cell_type": "markdown",
   "metadata": {},
   "source": [
    "#### 2. GCI (geometric consistency index)"
   ]
  },
  {
   "cell_type": "markdown",
   "metadata": {},
   "source": [
    "Показник GCI як правило застосовується для перевірки коректності застосування методу [RGMM][1].\n",
    "[1]: #2.-RGMM-(row-geometic-mean-method)"
   ]
  },
  {
   "cell_type": "markdown",
   "metadata": {},
   "source": [
    "Показник узгодженості GCI вираховується за формулою\n",
    "$$GCI=\\frac{2}{(n-1)(n-2)} \\sum\\limits_{i < j} \\log ^2 e_{ij}$$\n",
    "де $e_{ij}=d_{ij} \\frac{v_j}{v_i}$ – помилка апроксимації відношення ваг $\\frac{v_i}{v_j}$ за допомогою елемента МПП $d_{ij}$; $v_i = \\sqrt[n]{\\prod\\limits_{j=1}^{n} d_{ij}}$."
   ]
  },
  {
   "cell_type": "markdown",
   "metadata": {},
   "source": [
    "<table>\n",
    "<tr>\n",
    "<th colspan=\"3\">Порогове значення GCI</th>\n",
    "</tr>\n",
    "<tr>\n",
    "<th>$n=3$</th><th>$n=4$</th><th>$n=5$</th>\n",
    "</tr>\n",
    "<tr>\n",
    "<td>0.1573</td><td>0.3526</td><td>0.370</td>\n",
    "</tr>\n",
    "</table>"
   ]
  },
  {
   "cell_type": "code",
   "execution_count": 10,
   "metadata": {
    "collapsed": false
   },
   "outputs": [
    {
     "name": "stdout",
     "output_type": "stream",
     "text": [
      "Узгодженість вихідної матриці за методом GCI: 0.0995583040276\n"
     ]
    }
   ],
   "source": [
    "e_ij = multiply(given_matrix, v_i / v_i[:, newaxis])\n",
    "lg_e2 = log(tril(e_ij, -1))**2\n",
    "n = len(v_i)\n",
    "gci = lg_e2[lg_e2 != inf].sum() * 2 / (n - 1) / (n - 2)\n",
    "print(\"Узгодженість вихідної матриці за методом GCI:\", gci)"
   ]
  },
  {
   "cell_type": "markdown",
   "metadata": {},
   "source": [
    "Оскільки 0.0995583040276 < 0.3526, то можна вважати вихідну матрицю консистентною за показником GCI."
   ]
  },
  {
   "cell_type": "markdown",
   "metadata": {},
   "source": [
    "## Висновки"
   ]
  },
  {
   "cell_type": "markdown",
   "metadata": {},
   "source": [
    "Під час виконання лабораторної роботи було проведено оцінку важливостей 4 заданих альтернатив вкладення грошей. Використовувалися методи AN та RGMM. В результаті отримали наступні ваги:"
   ]
  },
  {
   "cell_type": "markdown",
   "metadata": {},
   "source": [
    "| Метод |    $w_1$   |    $w_2$   |    $w_3$   |    $w_4$   |\n",
    "|:-----:|:----------:|:----------:|:----------:|:----------:|\n",
    "|   AN  |   0.1875   | 0.53571429 | 0.19047619 | 0.07692308 |\n",
    "|  RGMM | 0.19904878 | 0.51554034 | 0.21389184 | 0.07151905 |"
   ]
  },
  {
   "cell_type": "markdown",
   "metadata": {
    "collapsed": true
   },
   "source": [
    "Нескладно помітити, що отримані різними методами ваги досить сильно корелюють. Таким чином, виходячи з умови, отримали, що найкращою альтернативою є друга – **оформлення депозиту**."
   ]
  },
  {
   "cell_type": "markdown",
   "metadata": {},
   "source": [
    "Після виконання оцінки ваг, було перевірено консистентність матриці показниками, відповідними до застосованих методів."
   ]
  },
  {
   "cell_type": "markdown",
   "metadata": {},
   "source": [
    "| Показник | Порогове значення при $n = 4$ | Значення для заданої матриці |\n",
    "|:--------:|:-----------------------------:|:----------------------------:|\n",
    "|    HCR   |              0.08             |        0.0165404801513       |\n",
    "|    GCI   |             0.3526            |        0.0995583040276       |"
   ]
  },
  {
   "cell_type": "markdown",
   "metadata": {},
   "source": [
    "Таким чином, вихідна матриця є консистентною за обома показниками."
   ]
  }
 ],
 "metadata": {
  "kernelspec": {
   "display_name": "Python 3",
   "language": "python",
   "name": "python3"
  },
  "language_info": {
   "codemirror_mode": {
    "name": "ipython",
    "version": 3
   },
   "file_extension": ".py",
   "mimetype": "text/x-python",
   "name": "python",
   "nbconvert_exporter": "python",
   "pygments_lexer": "ipython3",
   "version": "3.5.2"
  }
 },
 "nbformat": 4,
 "nbformat_minor": 0
}
