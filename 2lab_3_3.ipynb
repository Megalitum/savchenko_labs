{
 "cells": [
  {
   "cell_type": "code",
   "execution_count": 24,
   "metadata": {
    "collapsed": true
   },
   "outputs": [],
   "source": [
    "import numpy as np\n",
    "from numpy import linalg"
   ]
  },
  {
   "cell_type": "code",
   "execution_count": 25,
   "metadata": {
    "collapsed": true
   },
   "outputs": [],
   "source": [
    "# Get from lab2_1\n",
    "def cr_metric(lamb, dim):\n",
    "    \"\"\"\n",
    "    Eats matrix of pairwise comparisons m and produces CR metric of consistensy.\n",
    "    \"\"\"\n",
    "    # calculate ci metric\n",
    "    assert lamb >= dim, \"Greatest eigenvalue must be greater than matrix dimension.\"\n",
    "    ci = (lamb - dim)\n",
    "    if dim > 1:\n",
    "        ci /= float(dim - 1)\n",
    "    # fill the MRCI table\n",
    "    mrci = [0, 0, 0, 0.52, 0.89, 1.11, 1.25, 1.35, 1.40, 1.45, 1.49, 1.52, 1.54, 1.56, 1.58, 1.59] \n",
    "    cr = 0 if ci == 0 else ci / mrci[dim]\n",
    "    return cr\n",
    "\n",
    "def em_cr(mat):\n",
    "    \"\"\"\n",
    "    Eats matrix of pairwise comparisons m and produces pair (local weights, CR metric).\n",
    "    \"\"\"\n",
    "    assert mat.shape[0] == mat.shape[1]\n",
    "    values, vectors = linalg.eig(mat)\n",
    "    max_index = np.argmax(abs(values))\n",
    "    v = vectors[:, max_index]\n",
    "    lamb = values[max_index]\n",
    "    assert (v.imag < 1e-6).all(), \"eigenvector has complex coordinates: %s\" % v.imag\n",
    "    assert lamb.imag < 1e-6, \"eigenvalue has complex coordinates: %s\" % lamb.imag\n",
    "    v = v.real\n",
    "    lamb = lamb.real\n",
    "    if (v < 0).all():\n",
    "        v = - v\n",
    "    assert (v >= 0).all(), \"eigenvector has negative coordinates: %s\" % v\n",
    "    return v / linalg.norm(v, ord=1), cr_metric(lamb, mat.shape[0])"
   ]
  },
  {
   "cell_type": "code",
   "execution_count": null,
   "metadata": {
    "collapsed": true
   },
   "outputs": [],
   "source": []
  },
  {
   "cell_type": "code",
   "execution_count": 34,
   "metadata": {
    "collapsed": false
   },
   "outputs": [
    {
     "name": "stdout",
     "output_type": "stream",
     "text": [
      "a_low\n",
      "[[ 1.          3.          6.          6.        ]\n",
      " [ 0.25        1.          3.          3.        ]\n",
      " [ 0.16666667  0.25        1.          3.        ]\n",
      " [ 0.14285714  0.25        0.25        1.        ]]\n",
      "\n",
      "a_up\n",
      "[[ 1.          4.          6.          7.        ]\n",
      " [ 0.33333333  1.          4.          4.        ]\n",
      " [ 0.16666667  0.33333333  1.          4.        ]\n",
      " [ 0.16666667  0.33333333  0.33333333  1.        ]]\n"
     ]
    }
   ],
   "source": [
    "from_file = np.load('impc.npz')\n",
    "a_low = from_file['a_low']\n",
    "print 'a_low\\n', a_low\n",
    "a_up = from_file['a_up']\n",
    "print '\\na_up\\n', a_up"
   ]
  },
  {
   "cell_type": "code",
   "execution_count": 29,
   "metadata": {
    "collapsed": false
   },
   "outputs": [
    {
     "name": "stdout",
     "output_type": "stream",
     "text": [
      "[[ 1.          3.46410162  6.          6.4807407 ]\n",
      " [ 0.28867513  1.          3.46410162  3.46410162]\n",
      " [ 0.16666667  0.28867513  1.          3.46410162]\n",
      " [ 0.15430335  0.28867513  0.28867513  1.        ]]\n"
     ]
    }
   ],
   "source": [
    "# geometric mean\n",
    "A = np.sqrt(a_low * a_up)\n",
    "print(A)"
   ]
  },
  {
   "cell_type": "code",
   "execution_count": 39,
   "metadata": {
    "collapsed": false
   },
   "outputs": [
    {
     "name": "stdout",
     "output_type": "stream",
     "text": [
      "CR:\n",
      "0.0902442373314\n",
      "Weight:\n",
      "[ 0.58687058  0.2387061   0.114979    0.05944432]\n",
      "Sorted:\n",
      "[1, 2, 3, 4]\n"
     ]
    }
   ],
   "source": [
    "weight, CR_metric = em_cr(A)\n",
    "sorted_a = sorted(range(1, len(weight)+1), key= lambda i: weight[i-1], reverse=True)\n",
    "print 'CR:\\n', CR_metric\n",
    "print 'Weight:\\n', weight\n",
    "print 'Sorted:\\n', sorted_a"
   ]
  },
  {
   "cell_type": "code",
   "execution_count": null,
   "metadata": {
    "collapsed": true
   },
   "outputs": [],
   "source": []
  },
  {
   "cell_type": "code",
   "execution_count": null,
   "metadata": {
    "collapsed": true
   },
   "outputs": [],
   "source": []
  }
 ],
 "metadata": {
  "kernelspec": {
   "display_name": "Python 3",
   "language": "python",
   "name": "python3"
  },
  "language_info": {
   "codemirror_mode": {
    "name": "ipython",
    "version": 3
   },
   "file_extension": ".py",
   "mimetype": "text/x-python",
   "name": "python",
   "nbconvert_exporter": "python",
   "pygments_lexer": "ipython3",
   "version": "3.5.3"
  }
 },
 "nbformat": 4,
 "nbformat_minor": 2
}
