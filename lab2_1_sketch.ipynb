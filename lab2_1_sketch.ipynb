{
 "cells": [
  {
   "cell_type": "code",
   "execution_count": 5,
   "metadata": {
    "collapsed": false
   },
   "outputs": [
    {
     "name": "stdout",
     "output_type": "stream",
     "text": [
      "Populating the interactive namespace from numpy and matplotlib\n"
     ]
    }
   ],
   "source": [
    "%pylab inline\n",
    "import itertools\n",
    "import pandas as pd"
   ]
  },
  {
   "cell_type": "code",
   "execution_count": 67,
   "metadata": {
    "collapsed": false
   },
   "outputs": [],
   "source": [
    "class IO(object):\n",
    "    h1 = np.ones((4, 4))\n",
    "    h1[3, 2] = 3.0 # не на багато перевищує\n",
    "    h1[3, 1] = 5.0 # суттєво перевищує\n",
    "    h1[3, 0] = 5.0 # суттєво перевищує\n",
    "    h1[2, 1] = 3.0 # не на багато перевищує\n",
    "    h1[2, 0] = 3.0 # не на багато перевищує\n",
    "    h1[1, 0] = 3.0 # не на багато перевищує\n",
    "    h1_names = ['-20%', '-10%', '0%', '+10%']\n",
    "    \n",
    "    h2_layers = [\n",
    "        [\"FPM\", \"IASA\"],\n",
    "        [\"CS\", \"AM\", \"PI\"],\n",
    "        [\"Programmer\", \"Mathematicisian\", \"Data Scientist\", \"Trader\"]\n",
    "    ]\n",
    "    h2_layer_names = ['Faculty', 'Direction', 'Profession']\n",
    "    h2_local_weights = [[0.3, 0.7], [0.33, 0.33, 0.33]]\n",
    "    \n",
    "def fullfill(x):\n",
    "    x = atleast_2d(x)\n",
    "    m, n = x.shape\n",
    "    \n",
    "    for i, j in itertools.product(range(m), range(n)):\n",
    "        if x[i, j] != 1:\n",
    "            x[j, i] = 1.0 / x[i, j]\n",
    "    \"\"\"\n",
    "    a1 = x == 1\n",
    "    a2 = x != 1\n",
    "    \n",
    "    x[a1] = 1.0 / x[a2]\n",
    "    \"\"\"\n",
    "    return x\n",
    "        "
   ]
  },
  {
   "cell_type": "code",
   "execution_count": 68,
   "metadata": {
    "collapsed": false
   },
   "outputs": [
    {
     "data": {
      "text/html": [
       "<div>\n",
       "<table border=\"1\" class=\"dataframe\">\n",
       "  <thead>\n",
       "    <tr style=\"text-align: right;\">\n",
       "      <th></th>\n",
       "      <th>-20%</th>\n",
       "      <th>-10%</th>\n",
       "      <th>0%</th>\n",
       "      <th>+10%</th>\n",
       "    </tr>\n",
       "  </thead>\n",
       "  <tbody>\n",
       "    <tr>\n",
       "      <th>-20%</th>\n",
       "      <td>1.0</td>\n",
       "      <td>0.333333</td>\n",
       "      <td>0.333333</td>\n",
       "      <td>0.200000</td>\n",
       "    </tr>\n",
       "    <tr>\n",
       "      <th>-10%</th>\n",
       "      <td>3.0</td>\n",
       "      <td>1.000000</td>\n",
       "      <td>0.333333</td>\n",
       "      <td>0.200000</td>\n",
       "    </tr>\n",
       "    <tr>\n",
       "      <th>0%</th>\n",
       "      <td>3.0</td>\n",
       "      <td>3.000000</td>\n",
       "      <td>1.000000</td>\n",
       "      <td>0.333333</td>\n",
       "    </tr>\n",
       "    <tr>\n",
       "      <th>+10%</th>\n",
       "      <td>5.0</td>\n",
       "      <td>5.000000</td>\n",
       "      <td>3.000000</td>\n",
       "      <td>1.000000</td>\n",
       "    </tr>\n",
       "  </tbody>\n",
       "</table>\n",
       "</div>"
      ],
      "text/plain": [
       "      -20%      -10%        0%      +10%\n",
       "-20%   1.0  0.333333  0.333333  0.200000\n",
       "-10%   3.0  1.000000  0.333333  0.200000\n",
       "0%     3.0  3.000000  1.000000  0.333333\n",
       "+10%   5.0  5.000000  3.000000  1.000000"
      ]
     },
     "execution_count": 68,
     "metadata": {},
     "output_type": "execute_result"
    }
   ],
   "source": [
    "pd.DataFrame(data=fullfill(IO.h1), columns=IO.h1_names, index=IO.h1_names)"
   ]
  },
  {
   "cell_type": "markdown",
   "metadata": {
    "collapsed": true
   },
   "source": [
    "# Ну низя жи так"
   ]
  },
  {
   "cell_type": "markdown",
   "metadata": {},
   "source": [
    "Короче, Склифасофский, сюда надо пихнуть 2 вещи:\n",
    "- EM/CR (done)\n",
    "- Считывалку файлов + итеративный подсчет"
   ]
  },
  {
   "cell_type": "code",
   "execution_count": 1,
   "metadata": {
    "collapsed": false
   },
   "outputs": [],
   "source": [
    "def cr_metric(lamb, dim):\n",
    "    \"\"\"\n",
    "    Eats matrix of pairwise comparisons m and produces CR metric of consistensy.\n",
    "    \"\"\"\n",
    "    # calculate ci metric\n",
    "    assert lamb >= dim, \"Greatest eigenvalue must be greater than matrix dimension.\"\n",
    "    ci = (lamb - dim)\n",
    "    if dim > 1:\n",
    "        ci /= (dim - 1)\n",
    "    # fill the MRCI table\n",
    "    mrci = [0, 0, 0, 0.52, 0.89, 1.11, 1.25, 1.35, 1.40, 1.45, 1.49, 1.52, 1.54, 1.56, 1.58, 1.59] \n",
    "    cr = ci / mrci[m.shape[0]]\n",
    "    return cr\n",
    "\n",
    "def em_ci(mat):\n",
    "    \"\"\"\n",
    "    Eats matrix of pairwise comparisons m and produces local weights.\n",
    "    \"\"\"\n",
    "    assert mat.shape[0] == mat.shape[1]\n",
    "    values, vectors = linalg.eig(mat)\n",
    "    max_index = np.argmax(abs(values))\n",
    "    v = vectors[:, max_index]\n",
    "    lamb = values[max_index]\n",
    "    assert (v.imag < 1e-6).all(), \"eigenvector has complex coordinates: %s\" % v.imag\n",
    "    v = v.real\n",
    "    if (v < 0).all():\n",
    "        v = - v\n",
    "    assert (v >= 0).all(), \"eigenvector has negative coordinates: %s\" % v\n",
    "    return v / linalg.norm(v, ord=1), cr_metric(lamb, mat.shape[0])"
   ]
  },
  {
   "cell_type": "code",
   "execution_count": null,
   "metadata": {
    "collapsed": true
   },
   "outputs": [],
   "source": []
  }
 ],
 "metadata": {
  "anaconda-cloud": {},
  "kernelspec": {
   "display_name": "Python 3",
   "language": "python",
   "name": "python3"
  },
  "language_info": {
   "codemirror_mode": {
    "name": "ipython",
    "version": 3
   },
   "file_extension": ".py",
   "mimetype": "text/x-python",
   "name": "python",
   "nbconvert_exporter": "python",
   "pygments_lexer": "ipython3",
   "version": "3.6.0"
  }
 },
 "nbformat": 4,
 "nbformat_minor": 2
}
