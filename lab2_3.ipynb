{
 "cells": [
  {
   "cell_type": "markdown",
   "metadata": {},
   "source": [
    "# Лабораторна робота №3\n",
    "## Варіант №3\n",
    "Мета роботи:\n",
    "* Дослідити методи розрахунку ваг альтернатив за критерієм на основі нечітких експертних оцінок парних порівнянь на основі методу нижньої і верхньої апроксимацій LUAM"
   ]
  },
  {
   "cell_type": "code",
   "execution_count": 1,
   "metadata": {},
   "outputs": [
    {
     "name": "stdout",
     "output_type": "stream",
     "text": [
      "Populating the interactive namespace from numpy and matplotlib\n"
     ]
    }
   ],
   "source": [
    "%pylab inline\n",
    "import pandas as pd\n",
    "import itertools\n",
    "import scipy\n",
    "import scipy.optimize\n",
    "from IPython.display import Latex\n",
    "from IPython.core.display import display, HTML"
   ]
  },
  {
   "cell_type": "markdown",
   "metadata": {},
   "source": [
    "## Нижня модель LUAM\n",
    "<img src=\"./lower_model.png\"/>\n",
    "## Верхня модель LUAM\n",
    "<img src=\"./upper_model.png\"/>"
   ]
  },
  {
   "cell_type": "code",
   "execution_count": 2,
   "metadata": {
    "collapsed": true,
    "scrolled": true
   },
   "outputs": [],
   "source": [
    "# Get from lab2_1\n",
    "def cr_metric(lamb, dim):\n",
    "    \"\"\"\n",
    "    Eats matrix of pairwise comparisons m and produces CR metric of consistensy.\n",
    "    \"\"\"\n",
    "    # calculate ci metric\n",
    "    assert lamb >= dim, \"Greatest eigenvalue must be greater than matrix dimension.\"\n",
    "    ci = (lamb - dim)\n",
    "    if dim > 1:\n",
    "        ci /= float(dim - 1)\n",
    "    # fill the MRCI table\n",
    "    mrci = [0, 0, 0, 0.52, 0.89, 1.11, 1.25, 1.35, 1.40, 1.45, 1.49, 1.52, 1.54, 1.56, 1.58, 1.59] \n",
    "    cr = 0 if ci == 0 else ci / mrci[dim]\n",
    "    return cr\n",
    "\n",
    "def em_cr(mat):\n",
    "    \"\"\"\n",
    "    Eats matrix of pairwise comparisons m and produces pair (local weights, CR metric).\n",
    "    \"\"\"\n",
    "    assert mat.shape[0] == mat.shape[1]\n",
    "    values, vectors = linalg.eig(mat)\n",
    "    max_index = np.argmax(abs(values))\n",
    "    v = vectors[:, max_index]\n",
    "    lamb = values[max_index]\n",
    "    assert (v.imag < 1e-6).all(), \"eigenvector has complex coordinates: %s\" % v.imag\n",
    "    assert lamb.imag < 1e-6, \"eigenvalue has complex coordinates: %s\" % lamb.imag\n",
    "    v = v.real\n",
    "    lamb = lamb.real\n",
    "    if (v < 0).all():\n",
    "        v = - v\n",
    "    assert (v >= 0).all(), \"eigenvector has negative coordinates: %s\" % v\n",
    "    return v / linalg.norm(v, ord=1), cr_metric(lamb, mat.shape[0])\n",
    "\n",
    "A = np.array([\n",
    "    [[1, 1], [3, 4], [6, 6], [6, 7]],\n",
    "    [[1/4, 1/3], [1, 1], [3, 4], [3, 4]],\n",
    "    [[1/6, 1/6], [1/4, 1/3], [1, 1], [3, 4]],\n",
    "    [[1/7,1/6], [1/4, 1/3], [1/4, 1/3], [1, 1]]\n",
    "])\n",
    "\n",
    "A = np.array([\n",
    "    [[1, 1], [1, 3], [3, 5], [5, 7], [5, 9]],\n",
    "    [[1/3, 1], [1, 1], [1, 4], [1, 5], [1, 4]],\n",
    "    [[1/5, 1/3], [1/4, 1], [1, 1], [1/5, 5], [2, 4]],\n",
    "    [[1/7, 1/5], [1/5, 1], [1/5, 5], [1, 1], [1, 2]],\n",
    "    [[1/9, 1/5], [1/4, 1], [1/4, 1/2], [1/2, 1], [1, 1]]\n",
    "])\n",
    "AL = A[:, :, 0]\n",
    "AU = A[:, :, 1]\n",
    "\n",
    "def fill_lower(r, a, k, i, j):\n",
    "    r[k, j + a.shape[1]] = a[i, j]\n",
    "    r[k, i] = -1\n",
    "\n",
    "def fill_upper(r, a, k, i, j):\n",
    "    r[k,  i + a.shape[0]] = 1\n",
    "    r[k,  j] = -a[i, j]\n",
    "        \n",
    "def create_matrix(a, f):\n",
    "    \" w_1^L, ... w_n^L, w_1^U, ..., w_n^[l]\"\n",
    "    n, _ =  a.shape\n",
    "    r = np.zeros((n * n, 2 * n))\n",
    "    for k, p in enumerate(itertools.product(range(n), range(n))):\n",
    "        if (p[0] != p[1]):\n",
    "            f(r, a, k, p[0], p[1])\n",
    "    return r\n",
    "\n",
    "def third_lower(n):\n",
    "    r = np.zeros((n, 2 * n))\n",
    "    for i in range(n):\n",
    "        r[i, i] = -1\n",
    "        for j in range(n):\n",
    "            if i != j:\n",
    "                r[i, j + n] = -1\n",
    "    return r\n",
    "\n",
    "def fourth_lower(n):\n",
    "    r = np.zeros((n, 2 * n))\n",
    "    for i in range(n):\n",
    "        r[i, i + n] = 1\n",
    "        for j in range(n):\n",
    "            if i != j:\n",
    "                r[i, j] = 1\n",
    "    return r\n",
    "\n",
    "def fiveth_lower(n):\n",
    "    r = np.zeros((n, 2 * n))\n",
    "    for i in range(n):\n",
    "        r[i, i] = 1\n",
    "        r[i, i + n] = -1\n",
    "    return r\n",
    "        \n",
    "def solve(l, u, sz=1):\n",
    "    m, n = l.shape\n",
    "    s = 2 * n * n\n",
    "    assert(m == n)\n",
    "    assert(l.shape == u.shape)\n",
    "    a1 = sz * create_matrix(l, fill_lower)\n",
    "    a2 = sz * create_matrix(u, fill_upper)\n",
    "    a3 = third_lower(n)\n",
    "    a4 = fourth_lower(n)\n",
    "    a5 = fiveth_lower(n)\n",
    "    a_components = [a1, a2, a3, a4, a5]\n",
    "    a = np.concatenate(a_components)\n",
    "    b = np.zeros(s + 3 * n)\n",
    "    b[s:s + n] = -1\n",
    "    b[s + n: s + 2 * n] = 1\n",
    "    c = np.zeros(n + n)\n",
    "    c[0:n] = sz\n",
    "    c[n:] = -sz\n",
    "    data = [c, a, b]\n",
    "    result = scipy.optimize.linprog(\n",
    "        *data,\n",
    "        options=dict(disp=True),\n",
    "        bounds=[(0.0001, np.inf) for i in range(n + n)]\n",
    "    )\n",
    "    return data, result\n",
    "\n",
    "def get_ranges(solution):\n",
    "    x = solution.x\n",
    "    n = len(solution.x) // 2\n",
    "    return list(zip(x[0:n], x[n:]))\n",
    "\n",
    "def fuzzy_advantage(w_low, w_mid, w_up, j_s=0.2, j_e=0.2):\n",
    "    mm = np.meshgrid(w_mid, w_mid)\n",
    "    lu = np.meshgrid(w_low, w_up)\n",
    "    vss = np.zeros_like(mm[0])\n",
    "    vss[mm[1] >= mm[0]] = 1\n",
    "    mask_mixed = (mm[1] < mm[0]) * (lu[1] >= lu[0])\n",
    "\n",
    "    vals_mixed = (lu[1] - lu[0])[mask_mixed] / (lu[1] - mm[1] + mm[0] - lu[0])[mask_mixed]\n",
    "    vss[mask_mixed] = vals_mixed#[mask_mixed]\n",
    "    print('Matrix V:\\n',vss)\n",
    "    vs = np.clip(vss - vss.T, 0, 1)\n",
    "    ve = np.minimum(vss, vss.T)\n",
    "    order_g = vs >= j_s\n",
    "    order_eq = ve >= j_e\n",
    "    print('\">\" relation:\\n', order_g)\n",
    "    print('\"~\" relation:\\n', order_eq)\n",
    "    return rank_by_g_order(order_g)\n",
    "\n",
    "def rank_by_g_order(order):\n",
    "    marked_indices = np.arange(order.shape[0])\n",
    "    while (marked_indices.size > 0):\n",
    "        order_slice = order[np.ix_(marked_indices, marked_indices)]\n",
    "        greatest = np.where(np.sum(order_slice, axis=0) == 0)[0]\n",
    "        yield marked_indices[greatest]\n",
    "        marked_indices = np.delete(marked_indices, greatest)\n"
   ]
  },
  {
   "cell_type": "code",
   "execution_count": 3,
   "metadata": {
    "collapsed": true
   },
   "outputs": [],
   "source": [
    "def prepare_report(_, solution, n):\n",
    "    ranges = get_ranges(solution)\n",
    "    sorted_ranges = sorted(enumerate(ranges), key=lambda x: -(sum(x[1])))\n",
    "    pattern = \"$[w%d^{L}_{%d}, w%d^{U}_{%d}] = [%f, %f]$\"\n",
    "    sorted_ranges_latex = [pattern % (n, i + 1, n, i + 1, rng[0], rng[1]) for i, rng in sorted_ranges]\n",
    "    J = \"$J^{*} = %f$\" % np.abs(solution.fun)\n",
    "    weights = '<br/>'.join(sorted_ranges_latex)\n",
    "    ordering = \"%s\" % (\"$\\succeq$\".join([str(i + 1) for i, _ in sorted_ranges]))\n",
    "    return \"\"\"\n",
    "        %s<br/>\n",
    "        %s<br/>\n",
    "        %s<br/>\n",
    "    \"\"\" % (J, weights, ordering)"
   ]
  },
  {
   "cell_type": "code",
   "execution_count": 4,
   "metadata": {},
   "outputs": [
    {
     "name": "stdout",
     "output_type": "stream",
     "text": [
      "Optimization terminated successfully.\n",
      "         Current function value: -0.223535   \n",
      "         Iterations: 45\n",
      "Optimization terminated successfully.\n",
      "         Current function value: 0.618182    \n",
      "         Iterations: 23\n"
     ]
    }
   ],
   "source": [
    "solution1 = solve(AL, AU, sz=1)\n",
    "r1 = prepare_report(*solution1, 1)\n",
    "solution2 = solve(AL, AU, sz=-1)\n",
    "r2 = prepare_report(*solution2, 2)"
   ]
  },
  {
   "cell_type": "markdown",
   "metadata": {},
   "source": [
    "# Розв'язок нижньої моделі"
   ]
  },
  {
   "cell_type": "code",
   "execution_count": 5,
   "metadata": {},
   "outputs": [
    {
     "data": {
      "text/html": [
       "\n",
       "        $J^{*} = 0.223535$<br/>\n",
       "        $[w1^{L}_{1}, w1^{U}_{1}] = [0.422535, 0.534303]$<br/>$[w1^{L}_{2}, w1^{U}_{2}] = [0.178101, 0.281690]$<br/>$[w1^{L}_{3}, w1^{U}_{3}] = [0.140845, 0.140845]$<br/>$[w1^{L}_{4}, w1^{U}_{4}] = [0.076329, 0.084507]$<br/>$[w1^{L}_{5}, w1^{U}_{5}] = [0.070423, 0.070423]$<br/>\n",
       "        1$\\succeq$2$\\succeq$3$\\succeq$4$\\succeq$5<br/>\n",
       "    "
      ],
      "text/plain": [
       "<IPython.core.display.HTML object>"
      ]
     },
     "execution_count": 5,
     "metadata": {},
     "output_type": "execute_result"
    }
   ],
   "source": [
    "HTML(r1)"
   ]
  },
  {
   "cell_type": "markdown",
   "metadata": {},
   "source": [
    "# Розв'язок верхньої моделі"
   ]
  },
  {
   "cell_type": "code",
   "execution_count": 6,
   "metadata": {},
   "outputs": [
    {
     "data": {
      "text/html": [
       "\n",
       "        $J^{*} = 0.618182$<br/>\n",
       "        $[w2^{L}_{1}, w2^{U}_{1}] = [0.290909, 0.409091]$<br/>$[w2^{L}_{2}, w2^{U}_{2}] = [0.136364, 0.290909]$<br/>$[w2^{L}_{3}, w2^{U}_{3}] = [0.027273, 0.181818]$<br/>$[w2^{L}_{5}, w2^{U}_{5}] = [0.045455, 0.136364]$<br/>$[w2^{L}_{4}, w2^{U}_{4}] = [0.036364, 0.136364]$<br/>\n",
       "        1$\\succeq$2$\\succeq$3$\\succeq$5$\\succeq$4<br/>\n",
       "    "
      ],
      "text/plain": [
       "<IPython.core.display.HTML object>"
      ]
     },
     "execution_count": 6,
     "metadata": {},
     "output_type": "execute_result"
    }
   ],
   "source": [
    "HTML(r2)"
   ]
  },
  {
   "cell_type": "code",
   "execution_count": 7,
   "metadata": {
    "collapsed": true
   },
   "outputs": [],
   "source": [
    "def rank(solution):\n",
    "    advantages = np.array(get_ranges(solution))\n",
    "    l = advantages[:, 0].ravel()\n",
    "    u = advantages[:, 1].ravel()\n",
    "    #print(l)\n",
    "    #print(u)\n",
    "    return fuzzy_advantage(l, (l + u) / 2, u)"
   ]
  },
  {
   "cell_type": "code",
   "execution_count": 8,
   "metadata": {},
   "outputs": [
    {
     "name": "stdout",
     "output_type": "stream",
     "text": [
      "Matrix V:\n",
      " [[ 1.  1.  1.  1.  1.]\n",
      " [ 0.  1.  1.  1.  1.]\n",
      " [ 0.  0.  1.  1.  1.]\n",
      " [ 0.  0.  0.  1.  1.]\n",
      " [ 0.  0.  0.  0.  1.]]\n",
      "\">\" relation:\n",
      " [[False  True  True  True  True]\n",
      " [False False  True  True  True]\n",
      " [False False False  True  True]\n",
      " [False False False False  True]\n",
      " [False False False False False]]\n",
      "\"~\" relation:\n",
      " [[ True False False False False]\n",
      " [False  True False False False]\n",
      " [False False  True False False]\n",
      " [False False False  True False]\n",
      " [False False False False  True]]\n"
     ]
    },
    {
     "data": {
      "text/plain": [
       "[array([0]), array([1]), array([2]), array([3]), array([4])]"
      ]
     },
     "execution_count": 8,
     "metadata": {},
     "output_type": "execute_result"
    }
   ],
   "source": [
    "list(rank(solution1[1]))"
   ]
  },
  {
   "cell_type": "code",
   "execution_count": 9,
   "metadata": {},
   "outputs": [
    {
     "name": "stdout",
     "output_type": "stream",
     "text": [
      "Matrix V:\n",
      " [[  1.00000000e+00   1.00000000e+00   1.00000000e+00   1.00000000e+00\n",
      "    1.00000000e+00]\n",
      " [  0.00000000e+00   1.00000000e+00   1.00000000e+00   1.00000000e+00\n",
      "    1.00000000e+00]\n",
      " [  0.00000000e+00   2.94117647e-01   1.00000000e+00   1.00000000e+00\n",
      "    1.00000000e+00]\n",
      " [  0.00000000e+00   2.18079523e-16   8.57142857e-01   1.00000000e+00\n",
      "    9.52380952e-01]\n",
      " [  0.00000000e+00   0.00000000e+00   8.88888889e-01   1.00000000e+00\n",
      "    1.00000000e+00]]\n",
      "\">\" relation:\n",
      " [[False  True  True  True  True]\n",
      " [False False  True  True  True]\n",
      " [False False False False False]\n",
      " [False False False False False]\n",
      " [False False False False False]]\n",
      "\"~\" relation:\n",
      " [[ True False False False False]\n",
      " [False  True  True False False]\n",
      " [False  True  True  True  True]\n",
      " [False False  True  True  True]\n",
      " [False False  True  True  True]]\n"
     ]
    }
   ],
   "source": [
    "ranks = list(list(r + 1) for r in rank(solution2[1]))"
   ]
  },
  {
   "cell_type": "code",
   "execution_count": 10,
   "metadata": {},
   "outputs": [
    {
     "data": {
      "text/plain": [
       "[[1], [2], [3, 4, 5]]"
      ]
     },
     "execution_count": 10,
     "metadata": {},
     "output_type": "execute_result"
    }
   ],
   "source": [
    "ranks"
   ]
  },
  {
   "cell_type": "markdown",
   "metadata": {},
   "source": [
    "## EM_CR"
   ]
  },
  {
   "cell_type": "code",
   "execution_count": 11,
   "metadata": {},
   "outputs": [
    {
     "data": {
      "text/plain": [
       "(array([ 0.47707239,  0.21985661,  0.13063933,  0.1000566 ,  0.07237507]),\n",
       " 0.026402957695905803)"
      ]
     },
     "execution_count": 11,
     "metadata": {},
     "output_type": "execute_result"
    }
   ],
   "source": [
    "em_cr(np.sqrt(AL * AU))"
   ]
  },
  {
   "cell_type": "code",
   "execution_count": 12,
   "metadata": {},
   "outputs": [
    {
     "name": "stdout",
     "output_type": "stream",
     "text": [
      "CR:\n",
      " 0.0264029576959\n",
      "Weight:\n",
      " [ 0.47707239  0.21985661  0.13063933  0.1000566   0.07237507]\n",
      "Sorted:\n",
      " [1, 2, 3, 4, 5]\n"
     ]
    }
   ],
   "source": [
    "weight, CR_metric = em_cr(np.sqrt(AL * AU))\n",
    "sorted_a = sorted(range(1, len(weight)+1), key= lambda i: weight[i-1], reverse=True)\n",
    "print('CR:\\n', CR_metric)\n",
    "print('Weight:\\n', weight)\n",
    "print('Sorted:\\n', sorted_a)"
   ]
  },
  {
   "cell_type": "markdown",
   "metadata": {},
   "source": [
    "## Висновки\n",
    "В ході виконання лабораторної роботи, ми скористалися методом LUAM для отримання інтервальних ваг на базі інтервальної матриці парних порівнянь. Отримали ранжування, за яким розташовані у наступному порядку: $1, 2, 3, 4, 5$.\n",
    "Отримане ранжування за методом LUAM співпадає з ранжуванням, отримане методом em для геометричного середнього для граничних значень інтервалів матриці парних порівнянь."
   ]
  },
  {
   "cell_type": "code",
   "execution_count": null,
   "metadata": {
    "collapsed": true
   },
   "outputs": [],
   "source": []
  }
 ],
 "metadata": {
  "kernelspec": {
   "display_name": "Python 3",
   "language": "python",
   "name": "python3"
  },
  "language_info": {
   "codemirror_mode": {
    "name": "ipython",
    "version": 3
   },
   "file_extension": ".py",
   "mimetype": "text/x-python",
   "name": "python",
   "nbconvert_exporter": "python",
   "pygments_lexer": "ipython3",
   "version": "3.6.1"
  }
 },
 "nbformat": 4,
 "nbformat_minor": 2
}
